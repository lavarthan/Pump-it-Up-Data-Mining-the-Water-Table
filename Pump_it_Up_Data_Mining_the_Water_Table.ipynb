{
  "nbformat": 4,
  "nbformat_minor": 0,
  "metadata": {
    "colab": {
      "name": "Pump it Up: Data Mining the Water Table",
      "provenance": [],
      "collapsed_sections": [
        "WXnLCqX9eSuy",
        "Uc0Mlu9wjzSG",
        "ad8w_mX-lGn9"
      ]
    },
    "kernelspec": {
      "name": "python3",
      "display_name": "Python 3"
    },
    "language_info": {
      "name": "python"
    }
  },
  "cells": [
    {
      "cell_type": "markdown",
      "metadata": {
        "id": "AprMbFD-c6SR"
      },
      "source": [
        "# **Data exploration and Preprocessing**"
      ]
    },
    {
      "cell_type": "code",
      "metadata": {
        "id": "EI-3llRlxcra"
      },
      "source": [
        "# import packages\n",
        "import numpy as np \n",
        "import pandas as pd     \n",
        "import matplotlib.pyplot as plt  \n",
        "%matplotlib inline        \n",
        "import seaborn as sns\n",
        "import pickle"
      ],
      "execution_count": 931,
      "outputs": []
    },
    {
      "cell_type": "code",
      "metadata": {
        "id": "W3Fxw_CsHvP3"
      },
      "source": [
        "# load the dataset\n",
        "df_train_set = pd.read_csv('/content/drive/MyDrive/Pump it up/train_set.csv')\n",
        "df_train_labels = pd.read_csv('/content/drive/MyDrive/Pump it up/train_labels.csv')\n",
        "df_test = pd.read_csv('/content/drive/MyDrive/Pump it up/test.csv')"
      ],
      "execution_count": 932,
      "outputs": []
    },
    {
      "cell_type": "code",
      "metadata": {
        "id": "p8cj6ckXJK8S"
      },
      "source": [
        "# merge the train data and labels\n",
        "df_train_set.set_index('id',inplace=True) \n",
        "df_train_labels.set_index('id',inplace=True) \n",
        "df = pd.merge(df_train_labels, df_train_set, how = 'inner', left_index = True,right_index=True)\n",
        "df.reset_index(inplace=True)"
      ],
      "execution_count": 933,
      "outputs": []
    },
    {
      "cell_type": "code",
      "metadata": {
        "colab": {
          "base_uri": "https://localhost:8080/"
        },
        "id": "yNIRAWV7J4Bi",
        "outputId": "d2322089-8109-47a4-ec53-0bfe59c54485"
      },
      "source": [
        "# get the info\n",
        "df.info()"
      ],
      "execution_count": 934,
      "outputs": [
        {
          "output_type": "stream",
          "name": "stdout",
          "text": [
            "<class 'pandas.core.frame.DataFrame'>\n",
            "RangeIndex: 59400 entries, 0 to 59399\n",
            "Data columns (total 41 columns):\n",
            " #   Column                 Non-Null Count  Dtype  \n",
            "---  ------                 --------------  -----  \n",
            " 0   id                     59400 non-null  int64  \n",
            " 1   status_group           59400 non-null  object \n",
            " 2   amount_tsh             59400 non-null  float64\n",
            " 3   date_recorded          59400 non-null  object \n",
            " 4   funder                 55765 non-null  object \n",
            " 5   gps_height             59400 non-null  int64  \n",
            " 6   installer              55745 non-null  object \n",
            " 7   longitude              59400 non-null  float64\n",
            " 8   latitude               59400 non-null  float64\n",
            " 9   wpt_name               59400 non-null  object \n",
            " 10  num_private            59400 non-null  int64  \n",
            " 11  basin                  59400 non-null  object \n",
            " 12  subvillage             59029 non-null  object \n",
            " 13  region                 59400 non-null  object \n",
            " 14  region_code            59400 non-null  int64  \n",
            " 15  district_code          59400 non-null  int64  \n",
            " 16  lga                    59400 non-null  object \n",
            " 17  ward                   59400 non-null  object \n",
            " 18  population             59400 non-null  int64  \n",
            " 19  public_meeting         56066 non-null  object \n",
            " 20  recorded_by            59400 non-null  object \n",
            " 21  scheme_management      55523 non-null  object \n",
            " 22  scheme_name            31234 non-null  object \n",
            " 23  permit                 56344 non-null  object \n",
            " 24  construction_year      59400 non-null  int64  \n",
            " 25  extraction_type        59400 non-null  object \n",
            " 26  extraction_type_group  59400 non-null  object \n",
            " 27  extraction_type_class  59400 non-null  object \n",
            " 28  management             59400 non-null  object \n",
            " 29  management_group       59400 non-null  object \n",
            " 30  payment                59400 non-null  object \n",
            " 31  payment_type           59400 non-null  object \n",
            " 32  water_quality          59400 non-null  object \n",
            " 33  quality_group          59400 non-null  object \n",
            " 34  quantity               59400 non-null  object \n",
            " 35  quantity_group         59400 non-null  object \n",
            " 36  source                 59400 non-null  object \n",
            " 37  source_type            59400 non-null  object \n",
            " 38  source_class           59400 non-null  object \n",
            " 39  waterpoint_type        59400 non-null  object \n",
            " 40  waterpoint_type_group  59400 non-null  object \n",
            "dtypes: float64(3), int64(7), object(31)\n",
            "memory usage: 18.6+ MB\n"
          ]
        }
      ]
    },
    {
      "cell_type": "code",
      "metadata": {
        "id": "M6sKOxaDJ6aY",
        "colab": {
          "base_uri": "https://localhost:8080/",
          "height": 1000
        },
        "outputId": "5b11959f-642f-4f18-db59-0fe8044ff1a3"
      },
      "source": [
        "# get the percentage of missing data\n",
        "percent_missing = df.isnull().sum() * 100 / len(df)\n",
        "missing_value_df = pd.DataFrame({'percent_missing': percent_missing})\n",
        "missing_value_df"
      ],
      "execution_count": 935,
      "outputs": [
        {
          "output_type": "execute_result",
          "data": {
            "text/html": [
              "<div>\n",
              "<style scoped>\n",
              "    .dataframe tbody tr th:only-of-type {\n",
              "        vertical-align: middle;\n",
              "    }\n",
              "\n",
              "    .dataframe tbody tr th {\n",
              "        vertical-align: top;\n",
              "    }\n",
              "\n",
              "    .dataframe thead th {\n",
              "        text-align: right;\n",
              "    }\n",
              "</style>\n",
              "<table border=\"1\" class=\"dataframe\">\n",
              "  <thead>\n",
              "    <tr style=\"text-align: right;\">\n",
              "      <th></th>\n",
              "      <th>percent_missing</th>\n",
              "    </tr>\n",
              "  </thead>\n",
              "  <tbody>\n",
              "    <tr>\n",
              "      <th>id</th>\n",
              "      <td>0.000000</td>\n",
              "    </tr>\n",
              "    <tr>\n",
              "      <th>status_group</th>\n",
              "      <td>0.000000</td>\n",
              "    </tr>\n",
              "    <tr>\n",
              "      <th>amount_tsh</th>\n",
              "      <td>0.000000</td>\n",
              "    </tr>\n",
              "    <tr>\n",
              "      <th>date_recorded</th>\n",
              "      <td>0.000000</td>\n",
              "    </tr>\n",
              "    <tr>\n",
              "      <th>funder</th>\n",
              "      <td>6.119529</td>\n",
              "    </tr>\n",
              "    <tr>\n",
              "      <th>gps_height</th>\n",
              "      <td>0.000000</td>\n",
              "    </tr>\n",
              "    <tr>\n",
              "      <th>installer</th>\n",
              "      <td>6.153199</td>\n",
              "    </tr>\n",
              "    <tr>\n",
              "      <th>longitude</th>\n",
              "      <td>0.000000</td>\n",
              "    </tr>\n",
              "    <tr>\n",
              "      <th>latitude</th>\n",
              "      <td>0.000000</td>\n",
              "    </tr>\n",
              "    <tr>\n",
              "      <th>wpt_name</th>\n",
              "      <td>0.000000</td>\n",
              "    </tr>\n",
              "    <tr>\n",
              "      <th>num_private</th>\n",
              "      <td>0.000000</td>\n",
              "    </tr>\n",
              "    <tr>\n",
              "      <th>basin</th>\n",
              "      <td>0.000000</td>\n",
              "    </tr>\n",
              "    <tr>\n",
              "      <th>subvillage</th>\n",
              "      <td>0.624579</td>\n",
              "    </tr>\n",
              "    <tr>\n",
              "      <th>region</th>\n",
              "      <td>0.000000</td>\n",
              "    </tr>\n",
              "    <tr>\n",
              "      <th>region_code</th>\n",
              "      <td>0.000000</td>\n",
              "    </tr>\n",
              "    <tr>\n",
              "      <th>district_code</th>\n",
              "      <td>0.000000</td>\n",
              "    </tr>\n",
              "    <tr>\n",
              "      <th>lga</th>\n",
              "      <td>0.000000</td>\n",
              "    </tr>\n",
              "    <tr>\n",
              "      <th>ward</th>\n",
              "      <td>0.000000</td>\n",
              "    </tr>\n",
              "    <tr>\n",
              "      <th>population</th>\n",
              "      <td>0.000000</td>\n",
              "    </tr>\n",
              "    <tr>\n",
              "      <th>public_meeting</th>\n",
              "      <td>5.612795</td>\n",
              "    </tr>\n",
              "    <tr>\n",
              "      <th>recorded_by</th>\n",
              "      <td>0.000000</td>\n",
              "    </tr>\n",
              "    <tr>\n",
              "      <th>scheme_management</th>\n",
              "      <td>6.526936</td>\n",
              "    </tr>\n",
              "    <tr>\n",
              "      <th>scheme_name</th>\n",
              "      <td>47.417508</td>\n",
              "    </tr>\n",
              "    <tr>\n",
              "      <th>permit</th>\n",
              "      <td>5.144781</td>\n",
              "    </tr>\n",
              "    <tr>\n",
              "      <th>construction_year</th>\n",
              "      <td>0.000000</td>\n",
              "    </tr>\n",
              "    <tr>\n",
              "      <th>extraction_type</th>\n",
              "      <td>0.000000</td>\n",
              "    </tr>\n",
              "    <tr>\n",
              "      <th>extraction_type_group</th>\n",
              "      <td>0.000000</td>\n",
              "    </tr>\n",
              "    <tr>\n",
              "      <th>extraction_type_class</th>\n",
              "      <td>0.000000</td>\n",
              "    </tr>\n",
              "    <tr>\n",
              "      <th>management</th>\n",
              "      <td>0.000000</td>\n",
              "    </tr>\n",
              "    <tr>\n",
              "      <th>management_group</th>\n",
              "      <td>0.000000</td>\n",
              "    </tr>\n",
              "    <tr>\n",
              "      <th>payment</th>\n",
              "      <td>0.000000</td>\n",
              "    </tr>\n",
              "    <tr>\n",
              "      <th>payment_type</th>\n",
              "      <td>0.000000</td>\n",
              "    </tr>\n",
              "    <tr>\n",
              "      <th>water_quality</th>\n",
              "      <td>0.000000</td>\n",
              "    </tr>\n",
              "    <tr>\n",
              "      <th>quality_group</th>\n",
              "      <td>0.000000</td>\n",
              "    </tr>\n",
              "    <tr>\n",
              "      <th>quantity</th>\n",
              "      <td>0.000000</td>\n",
              "    </tr>\n",
              "    <tr>\n",
              "      <th>quantity_group</th>\n",
              "      <td>0.000000</td>\n",
              "    </tr>\n",
              "    <tr>\n",
              "      <th>source</th>\n",
              "      <td>0.000000</td>\n",
              "    </tr>\n",
              "    <tr>\n",
              "      <th>source_type</th>\n",
              "      <td>0.000000</td>\n",
              "    </tr>\n",
              "    <tr>\n",
              "      <th>source_class</th>\n",
              "      <td>0.000000</td>\n",
              "    </tr>\n",
              "    <tr>\n",
              "      <th>waterpoint_type</th>\n",
              "      <td>0.000000</td>\n",
              "    </tr>\n",
              "    <tr>\n",
              "      <th>waterpoint_type_group</th>\n",
              "      <td>0.000000</td>\n",
              "    </tr>\n",
              "  </tbody>\n",
              "</table>\n",
              "</div>"
            ],
            "text/plain": [
              "                       percent_missing\n",
              "id                            0.000000\n",
              "status_group                  0.000000\n",
              "amount_tsh                    0.000000\n",
              "date_recorded                 0.000000\n",
              "funder                        6.119529\n",
              "gps_height                    0.000000\n",
              "installer                     6.153199\n",
              "longitude                     0.000000\n",
              "latitude                      0.000000\n",
              "wpt_name                      0.000000\n",
              "num_private                   0.000000\n",
              "basin                         0.000000\n",
              "subvillage                    0.624579\n",
              "region                        0.000000\n",
              "region_code                   0.000000\n",
              "district_code                 0.000000\n",
              "lga                           0.000000\n",
              "ward                          0.000000\n",
              "population                    0.000000\n",
              "public_meeting                5.612795\n",
              "recorded_by                   0.000000\n",
              "scheme_management             6.526936\n",
              "scheme_name                  47.417508\n",
              "permit                        5.144781\n",
              "construction_year             0.000000\n",
              "extraction_type               0.000000\n",
              "extraction_type_group         0.000000\n",
              "extraction_type_class         0.000000\n",
              "management                    0.000000\n",
              "management_group              0.000000\n",
              "payment                       0.000000\n",
              "payment_type                  0.000000\n",
              "water_quality                 0.000000\n",
              "quality_group                 0.000000\n",
              "quantity                      0.000000\n",
              "quantity_group                0.000000\n",
              "source                        0.000000\n",
              "source_type                   0.000000\n",
              "source_class                  0.000000\n",
              "waterpoint_type               0.000000\n",
              "waterpoint_type_group         0.000000"
            ]
          },
          "metadata": {},
          "execution_count": 935
        }
      ]
    },
    {
      "cell_type": "code",
      "metadata": {
        "id": "wyyJsPGbKC6U",
        "colab": {
          "base_uri": "https://localhost:8080/",
          "height": 314
        },
        "outputId": "931356f1-7e87-4a06-dbc6-ccb0ef67d1a8"
      },
      "source": [
        "# descripbe dataset\n",
        "df.describe()"
      ],
      "execution_count": 936,
      "outputs": [
        {
          "output_type": "execute_result",
          "data": {
            "text/html": [
              "<div>\n",
              "<style scoped>\n",
              "    .dataframe tbody tr th:only-of-type {\n",
              "        vertical-align: middle;\n",
              "    }\n",
              "\n",
              "    .dataframe tbody tr th {\n",
              "        vertical-align: top;\n",
              "    }\n",
              "\n",
              "    .dataframe thead th {\n",
              "        text-align: right;\n",
              "    }\n",
              "</style>\n",
              "<table border=\"1\" class=\"dataframe\">\n",
              "  <thead>\n",
              "    <tr style=\"text-align: right;\">\n",
              "      <th></th>\n",
              "      <th>id</th>\n",
              "      <th>amount_tsh</th>\n",
              "      <th>gps_height</th>\n",
              "      <th>longitude</th>\n",
              "      <th>latitude</th>\n",
              "      <th>num_private</th>\n",
              "      <th>region_code</th>\n",
              "      <th>district_code</th>\n",
              "      <th>population</th>\n",
              "      <th>construction_year</th>\n",
              "    </tr>\n",
              "  </thead>\n",
              "  <tbody>\n",
              "    <tr>\n",
              "      <th>count</th>\n",
              "      <td>59400.000000</td>\n",
              "      <td>59400.000000</td>\n",
              "      <td>59400.000000</td>\n",
              "      <td>59400.000000</td>\n",
              "      <td>5.940000e+04</td>\n",
              "      <td>59400.000000</td>\n",
              "      <td>59400.000000</td>\n",
              "      <td>59400.000000</td>\n",
              "      <td>59400.000000</td>\n",
              "      <td>59400.000000</td>\n",
              "    </tr>\n",
              "    <tr>\n",
              "      <th>mean</th>\n",
              "      <td>37115.131768</td>\n",
              "      <td>317.650385</td>\n",
              "      <td>668.297239</td>\n",
              "      <td>34.077427</td>\n",
              "      <td>-5.706033e+00</td>\n",
              "      <td>0.474141</td>\n",
              "      <td>15.297003</td>\n",
              "      <td>5.629747</td>\n",
              "      <td>179.909983</td>\n",
              "      <td>1300.652475</td>\n",
              "    </tr>\n",
              "    <tr>\n",
              "      <th>std</th>\n",
              "      <td>21453.128371</td>\n",
              "      <td>2997.574558</td>\n",
              "      <td>693.116350</td>\n",
              "      <td>6.567432</td>\n",
              "      <td>2.946019e+00</td>\n",
              "      <td>12.236230</td>\n",
              "      <td>17.587406</td>\n",
              "      <td>9.633649</td>\n",
              "      <td>471.482176</td>\n",
              "      <td>951.620547</td>\n",
              "    </tr>\n",
              "    <tr>\n",
              "      <th>min</th>\n",
              "      <td>0.000000</td>\n",
              "      <td>0.000000</td>\n",
              "      <td>-90.000000</td>\n",
              "      <td>0.000000</td>\n",
              "      <td>-1.164944e+01</td>\n",
              "      <td>0.000000</td>\n",
              "      <td>1.000000</td>\n",
              "      <td>0.000000</td>\n",
              "      <td>0.000000</td>\n",
              "      <td>0.000000</td>\n",
              "    </tr>\n",
              "    <tr>\n",
              "      <th>25%</th>\n",
              "      <td>18519.750000</td>\n",
              "      <td>0.000000</td>\n",
              "      <td>0.000000</td>\n",
              "      <td>33.090347</td>\n",
              "      <td>-8.540621e+00</td>\n",
              "      <td>0.000000</td>\n",
              "      <td>5.000000</td>\n",
              "      <td>2.000000</td>\n",
              "      <td>0.000000</td>\n",
              "      <td>0.000000</td>\n",
              "    </tr>\n",
              "    <tr>\n",
              "      <th>50%</th>\n",
              "      <td>37061.500000</td>\n",
              "      <td>0.000000</td>\n",
              "      <td>369.000000</td>\n",
              "      <td>34.908743</td>\n",
              "      <td>-5.021597e+00</td>\n",
              "      <td>0.000000</td>\n",
              "      <td>12.000000</td>\n",
              "      <td>3.000000</td>\n",
              "      <td>25.000000</td>\n",
              "      <td>1986.000000</td>\n",
              "    </tr>\n",
              "    <tr>\n",
              "      <th>75%</th>\n",
              "      <td>55656.500000</td>\n",
              "      <td>20.000000</td>\n",
              "      <td>1319.250000</td>\n",
              "      <td>37.178387</td>\n",
              "      <td>-3.326156e+00</td>\n",
              "      <td>0.000000</td>\n",
              "      <td>17.000000</td>\n",
              "      <td>5.000000</td>\n",
              "      <td>215.000000</td>\n",
              "      <td>2004.000000</td>\n",
              "    </tr>\n",
              "    <tr>\n",
              "      <th>max</th>\n",
              "      <td>74247.000000</td>\n",
              "      <td>350000.000000</td>\n",
              "      <td>2770.000000</td>\n",
              "      <td>40.345193</td>\n",
              "      <td>-2.000000e-08</td>\n",
              "      <td>1776.000000</td>\n",
              "      <td>99.000000</td>\n",
              "      <td>80.000000</td>\n",
              "      <td>30500.000000</td>\n",
              "      <td>2013.000000</td>\n",
              "    </tr>\n",
              "  </tbody>\n",
              "</table>\n",
              "</div>"
            ],
            "text/plain": [
              "                 id     amount_tsh  ...    population  construction_year\n",
              "count  59400.000000   59400.000000  ...  59400.000000       59400.000000\n",
              "mean   37115.131768     317.650385  ...    179.909983        1300.652475\n",
              "std    21453.128371    2997.574558  ...    471.482176         951.620547\n",
              "min        0.000000       0.000000  ...      0.000000           0.000000\n",
              "25%    18519.750000       0.000000  ...      0.000000           0.000000\n",
              "50%    37061.500000       0.000000  ...     25.000000        1986.000000\n",
              "75%    55656.500000      20.000000  ...    215.000000        2004.000000\n",
              "max    74247.000000  350000.000000  ...  30500.000000        2013.000000\n",
              "\n",
              "[8 rows x 10 columns]"
            ]
          },
          "metadata": {},
          "execution_count": 936
        }
      ]
    },
    {
      "cell_type": "code",
      "metadata": {
        "colab": {
          "base_uri": "https://localhost:8080/"
        },
        "id": "QRFnZ_6dPrrJ",
        "outputId": "5fc02abb-6aeb-41ba-9935-b9786504f055"
      },
      "source": [
        "df.columns"
      ],
      "execution_count": 937,
      "outputs": [
        {
          "output_type": "execute_result",
          "data": {
            "text/plain": [
              "Index(['id', 'status_group', 'amount_tsh', 'date_recorded', 'funder',\n",
              "       'gps_height', 'installer', 'longitude', 'latitude', 'wpt_name',\n",
              "       'num_private', 'basin', 'subvillage', 'region', 'region_code',\n",
              "       'district_code', 'lga', 'ward', 'population', 'public_meeting',\n",
              "       'recorded_by', 'scheme_management', 'scheme_name', 'permit',\n",
              "       'construction_year', 'extraction_type', 'extraction_type_group',\n",
              "       'extraction_type_class', 'management', 'management_group', 'payment',\n",
              "       'payment_type', 'water_quality', 'quality_group', 'quantity',\n",
              "       'quantity_group', 'source', 'source_type', 'source_class',\n",
              "       'waterpoint_type', 'waterpoint_type_group'],\n",
              "      dtype='object')"
            ]
          },
          "metadata": {},
          "execution_count": 937
        }
      ]
    },
    {
      "cell_type": "code",
      "metadata": {
        "colab": {
          "base_uri": "https://localhost:8080/"
        },
        "id": "gQef0bnjKFLi",
        "outputId": "7b09a8ee-5351-43e9-ffd0-e62cfba8d517"
      },
      "source": [
        "# check the imbalanced target values\n",
        "df['status_group'].value_counts()"
      ],
      "execution_count": 938,
      "outputs": [
        {
          "output_type": "execute_result",
          "data": {
            "text/plain": [
              "functional                 32259\n",
              "non functional             22824\n",
              "functional needs repair     4317\n",
              "Name: status_group, dtype: int64"
            ]
          },
          "metadata": {},
          "execution_count": 938
        }
      ]
    },
    {
      "cell_type": "code",
      "metadata": {
        "colab": {
          "base_uri": "https://localhost:8080/"
        },
        "id": "_UVm7LlgKHaW",
        "outputId": "04693806-bd8e-46d9-aeb3-f38aa9f47dc0"
      },
      "source": [
        "df['scheme_management'].value_counts()"
      ],
      "execution_count": 939,
      "outputs": [
        {
          "output_type": "execute_result",
          "data": {
            "text/plain": [
              "VWC                 36793\n",
              "WUG                  5206\n",
              "Water authority      3153\n",
              "WUA                  2883\n",
              "Water Board          2748\n",
              "Parastatal           1680\n",
              "Private operator     1063\n",
              "Company              1061\n",
              "Other                 766\n",
              "SWC                    97\n",
              "Trust                  72\n",
              "None                    1\n",
              "Name: scheme_management, dtype: int64"
            ]
          },
          "metadata": {},
          "execution_count": 939
        }
      ]
    },
    {
      "cell_type": "code",
      "metadata": {
        "colab": {
          "base_uri": "https://localhost:8080/"
        },
        "id": "n-q2q1SKKJkn",
        "outputId": "79e81265-ea38-4742-8274-aae86e862f52"
      },
      "source": [
        "df['management'].value_counts()"
      ],
      "execution_count": 940,
      "outputs": [
        {
          "output_type": "execute_result",
          "data": {
            "text/plain": [
              "vwc                 40507\n",
              "wug                  6515\n",
              "water board          2933\n",
              "wua                  2535\n",
              "private operator     1971\n",
              "parastatal           1768\n",
              "water authority       904\n",
              "other                 844\n",
              "company               685\n",
              "unknown               561\n",
              "other - school         99\n",
              "trust                  78\n",
              "Name: management, dtype: int64"
            ]
          },
          "metadata": {},
          "execution_count": 940
        }
      ]
    },
    {
      "cell_type": "code",
      "metadata": {
        "colab": {
          "base_uri": "https://localhost:8080/"
        },
        "id": "SIWe8k_FTN_6",
        "outputId": "d4a6a32e-9167-45c0-a00c-684cbc1acab9"
      },
      "source": [
        "df['management_group'].value_counts()"
      ],
      "execution_count": 941,
      "outputs": [
        {
          "output_type": "execute_result",
          "data": {
            "text/plain": [
              "user-group    52490\n",
              "commercial     3638\n",
              "parastatal     1768\n",
              "other           943\n",
              "unknown         561\n",
              "Name: management_group, dtype: int64"
            ]
          },
          "metadata": {},
          "execution_count": 941
        }
      ]
    },
    {
      "cell_type": "code",
      "metadata": {
        "id": "BKU_MYGQSgxF"
      },
      "source": [
        "# above management and schme_management, and management_group columns have same kind of information and scheme_management\n",
        "# has more null values so we we drop that column and management has more data than management_group so we keep the managemet column\n",
        "df.drop(columns=[ 'scheme_management','management_group'],inplace=True )"
      ],
      "execution_count": 942,
      "outputs": []
    },
    {
      "cell_type": "code",
      "metadata": {
        "colab": {
          "base_uri": "https://localhost:8080/"
        },
        "id": "s54kg7WEKU9L",
        "outputId": "51cc5d7c-aaff-414b-f2f3-faeaf1748cdc"
      },
      "source": [
        "df['quantity'].value_counts()"
      ],
      "execution_count": 943,
      "outputs": [
        {
          "output_type": "execute_result",
          "data": {
            "text/plain": [
              "enough          33186\n",
              "insufficient    15129\n",
              "dry              6246\n",
              "seasonal         4050\n",
              "unknown           789\n",
              "Name: quantity, dtype: int64"
            ]
          },
          "metadata": {},
          "execution_count": 943
        }
      ]
    },
    {
      "cell_type": "code",
      "metadata": {
        "colab": {
          "base_uri": "https://localhost:8080/"
        },
        "id": "DuWX90U0KXBJ",
        "outputId": "91914d8f-5f91-4388-f0ed-9ebf106daae2"
      },
      "source": [
        "df['quantity_group'].value_counts()"
      ],
      "execution_count": 944,
      "outputs": [
        {
          "output_type": "execute_result",
          "data": {
            "text/plain": [
              "enough          33186\n",
              "insufficient    15129\n",
              "dry              6246\n",
              "seasonal         4050\n",
              "unknown           789\n",
              "Name: quantity_group, dtype: int64"
            ]
          },
          "metadata": {},
          "execution_count": 944
        }
      ]
    },
    {
      "cell_type": "code",
      "metadata": {
        "id": "bLj4toJWTr1a"
      },
      "source": [
        "# above two columns has same kind of info we drop quantity_group\n",
        "df.drop(columns=[ 'quantity_group'],inplace=True )"
      ],
      "execution_count": 945,
      "outputs": []
    },
    {
      "cell_type": "code",
      "metadata": {
        "colab": {
          "base_uri": "https://localhost:8080/"
        },
        "id": "VjQ4UK3aKbJl",
        "outputId": "7da2ec5e-a733-4887-b544-d27626ae2662"
      },
      "source": [
        "df['source'].value_counts()"
      ],
      "execution_count": 946,
      "outputs": [
        {
          "output_type": "execute_result",
          "data": {
            "text/plain": [
              "spring                  17021\n",
              "shallow well            16824\n",
              "machine dbh             11075\n",
              "river                    9612\n",
              "rainwater harvesting     2295\n",
              "hand dtw                  874\n",
              "lake                      765\n",
              "dam                       656\n",
              "other                     212\n",
              "unknown                    66\n",
              "Name: source, dtype: int64"
            ]
          },
          "metadata": {},
          "execution_count": 946
        }
      ]
    },
    {
      "cell_type": "code",
      "metadata": {
        "colab": {
          "base_uri": "https://localhost:8080/"
        },
        "id": "kXf7Dcs2Kdes",
        "outputId": "539d6aaa-66ef-4330-abc4-67b342acea4c"
      },
      "source": [
        "df['source_type'].value_counts()"
      ],
      "execution_count": 947,
      "outputs": [
        {
          "output_type": "execute_result",
          "data": {
            "text/plain": [
              "spring                  17021\n",
              "shallow well            16824\n",
              "borehole                11949\n",
              "river/lake              10377\n",
              "rainwater harvesting     2295\n",
              "dam                       656\n",
              "other                     278\n",
              "Name: source_type, dtype: int64"
            ]
          },
          "metadata": {},
          "execution_count": 947
        }
      ]
    },
    {
      "cell_type": "code",
      "metadata": {
        "colab": {
          "base_uri": "https://localhost:8080/"
        },
        "id": "njO8LzUMKgWx",
        "outputId": "fbc1d6dd-792c-4481-866c-427d504b9564"
      },
      "source": [
        "df['source_class'].value_counts()"
      ],
      "execution_count": 948,
      "outputs": [
        {
          "output_type": "execute_result",
          "data": {
            "text/plain": [
              "groundwater    45794\n",
              "surface        13328\n",
              "unknown          278\n",
              "Name: source_class, dtype: int64"
            ]
          },
          "metadata": {},
          "execution_count": 948
        }
      ]
    },
    {
      "cell_type": "code",
      "metadata": {
        "colab": {
          "base_uri": "https://localhost:8080/",
          "height": 331
        },
        "id": "SUSCtOkQKipO",
        "outputId": "36dca991-46e9-4610-94b3-5946f43ecf4e"
      },
      "source": [
        "df.groupby(['source_class','source_type']).count()\n",
        "# to see how many sub-groups have in source_class according to source column"
      ],
      "execution_count": 949,
      "outputs": [
        {
          "output_type": "execute_result",
          "data": {
            "text/html": [
              "<div>\n",
              "<style scoped>\n",
              "    .dataframe tbody tr th:only-of-type {\n",
              "        vertical-align: middle;\n",
              "    }\n",
              "\n",
              "    .dataframe tbody tr th {\n",
              "        vertical-align: top;\n",
              "    }\n",
              "\n",
              "    .dataframe thead th {\n",
              "        text-align: right;\n",
              "    }\n",
              "</style>\n",
              "<table border=\"1\" class=\"dataframe\">\n",
              "  <thead>\n",
              "    <tr style=\"text-align: right;\">\n",
              "      <th></th>\n",
              "      <th></th>\n",
              "      <th>id</th>\n",
              "      <th>status_group</th>\n",
              "      <th>amount_tsh</th>\n",
              "      <th>date_recorded</th>\n",
              "      <th>funder</th>\n",
              "      <th>gps_height</th>\n",
              "      <th>installer</th>\n",
              "      <th>longitude</th>\n",
              "      <th>latitude</th>\n",
              "      <th>wpt_name</th>\n",
              "      <th>num_private</th>\n",
              "      <th>basin</th>\n",
              "      <th>subvillage</th>\n",
              "      <th>region</th>\n",
              "      <th>region_code</th>\n",
              "      <th>district_code</th>\n",
              "      <th>lga</th>\n",
              "      <th>ward</th>\n",
              "      <th>population</th>\n",
              "      <th>public_meeting</th>\n",
              "      <th>recorded_by</th>\n",
              "      <th>scheme_name</th>\n",
              "      <th>permit</th>\n",
              "      <th>construction_year</th>\n",
              "      <th>extraction_type</th>\n",
              "      <th>extraction_type_group</th>\n",
              "      <th>extraction_type_class</th>\n",
              "      <th>management</th>\n",
              "      <th>payment</th>\n",
              "      <th>payment_type</th>\n",
              "      <th>water_quality</th>\n",
              "      <th>quality_group</th>\n",
              "      <th>quantity</th>\n",
              "      <th>source</th>\n",
              "      <th>waterpoint_type</th>\n",
              "      <th>waterpoint_type_group</th>\n",
              "    </tr>\n",
              "    <tr>\n",
              "      <th>source_class</th>\n",
              "      <th>source_type</th>\n",
              "      <th></th>\n",
              "      <th></th>\n",
              "      <th></th>\n",
              "      <th></th>\n",
              "      <th></th>\n",
              "      <th></th>\n",
              "      <th></th>\n",
              "      <th></th>\n",
              "      <th></th>\n",
              "      <th></th>\n",
              "      <th></th>\n",
              "      <th></th>\n",
              "      <th></th>\n",
              "      <th></th>\n",
              "      <th></th>\n",
              "      <th></th>\n",
              "      <th></th>\n",
              "      <th></th>\n",
              "      <th></th>\n",
              "      <th></th>\n",
              "      <th></th>\n",
              "      <th></th>\n",
              "      <th></th>\n",
              "      <th></th>\n",
              "      <th></th>\n",
              "      <th></th>\n",
              "      <th></th>\n",
              "      <th></th>\n",
              "      <th></th>\n",
              "      <th></th>\n",
              "      <th></th>\n",
              "      <th></th>\n",
              "      <th></th>\n",
              "      <th></th>\n",
              "      <th></th>\n",
              "      <th></th>\n",
              "    </tr>\n",
              "  </thead>\n",
              "  <tbody>\n",
              "    <tr>\n",
              "      <th rowspan=\"3\" valign=\"top\">groundwater</th>\n",
              "      <th>borehole</th>\n",
              "      <td>11949</td>\n",
              "      <td>11949</td>\n",
              "      <td>11949</td>\n",
              "      <td>11949</td>\n",
              "      <td>11120</td>\n",
              "      <td>11949</td>\n",
              "      <td>11114</td>\n",
              "      <td>11949</td>\n",
              "      <td>11949</td>\n",
              "      <td>11949</td>\n",
              "      <td>11949</td>\n",
              "      <td>11949</td>\n",
              "      <td>11723</td>\n",
              "      <td>11949</td>\n",
              "      <td>11949</td>\n",
              "      <td>11949</td>\n",
              "      <td>11949</td>\n",
              "      <td>11949</td>\n",
              "      <td>11949</td>\n",
              "      <td>11040</td>\n",
              "      <td>11949</td>\n",
              "      <td>5613</td>\n",
              "      <td>11162</td>\n",
              "      <td>11949</td>\n",
              "      <td>11949</td>\n",
              "      <td>11949</td>\n",
              "      <td>11949</td>\n",
              "      <td>11949</td>\n",
              "      <td>11949</td>\n",
              "      <td>11949</td>\n",
              "      <td>11949</td>\n",
              "      <td>11949</td>\n",
              "      <td>11949</td>\n",
              "      <td>11949</td>\n",
              "      <td>11949</td>\n",
              "      <td>11949</td>\n",
              "    </tr>\n",
              "    <tr>\n",
              "      <th>shallow well</th>\n",
              "      <td>16824</td>\n",
              "      <td>16824</td>\n",
              "      <td>16824</td>\n",
              "      <td>16824</td>\n",
              "      <td>16302</td>\n",
              "      <td>16824</td>\n",
              "      <td>16286</td>\n",
              "      <td>16824</td>\n",
              "      <td>16824</td>\n",
              "      <td>16824</td>\n",
              "      <td>16824</td>\n",
              "      <td>16824</td>\n",
              "      <td>16817</td>\n",
              "      <td>16824</td>\n",
              "      <td>16824</td>\n",
              "      <td>16824</td>\n",
              "      <td>16824</td>\n",
              "      <td>16824</td>\n",
              "      <td>16824</td>\n",
              "      <td>15522</td>\n",
              "      <td>16824</td>\n",
              "      <td>1129</td>\n",
              "      <td>16253</td>\n",
              "      <td>16824</td>\n",
              "      <td>16824</td>\n",
              "      <td>16824</td>\n",
              "      <td>16824</td>\n",
              "      <td>16824</td>\n",
              "      <td>16824</td>\n",
              "      <td>16824</td>\n",
              "      <td>16824</td>\n",
              "      <td>16824</td>\n",
              "      <td>16824</td>\n",
              "      <td>16824</td>\n",
              "      <td>16824</td>\n",
              "      <td>16824</td>\n",
              "    </tr>\n",
              "    <tr>\n",
              "      <th>spring</th>\n",
              "      <td>17021</td>\n",
              "      <td>17021</td>\n",
              "      <td>17021</td>\n",
              "      <td>17021</td>\n",
              "      <td>15870</td>\n",
              "      <td>17021</td>\n",
              "      <td>15870</td>\n",
              "      <td>17021</td>\n",
              "      <td>17021</td>\n",
              "      <td>17021</td>\n",
              "      <td>17021</td>\n",
              "      <td>17021</td>\n",
              "      <td>16886</td>\n",
              "      <td>17021</td>\n",
              "      <td>17021</td>\n",
              "      <td>17021</td>\n",
              "      <td>17021</td>\n",
              "      <td>17021</td>\n",
              "      <td>17021</td>\n",
              "      <td>16384</td>\n",
              "      <td>17021</td>\n",
              "      <td>14903</td>\n",
              "      <td>15981</td>\n",
              "      <td>17021</td>\n",
              "      <td>17021</td>\n",
              "      <td>17021</td>\n",
              "      <td>17021</td>\n",
              "      <td>17021</td>\n",
              "      <td>17021</td>\n",
              "      <td>17021</td>\n",
              "      <td>17021</td>\n",
              "      <td>17021</td>\n",
              "      <td>17021</td>\n",
              "      <td>17021</td>\n",
              "      <td>17021</td>\n",
              "      <td>17021</td>\n",
              "    </tr>\n",
              "    <tr>\n",
              "      <th rowspan=\"3\" valign=\"top\">surface</th>\n",
              "      <th>dam</th>\n",
              "      <td>656</td>\n",
              "      <td>656</td>\n",
              "      <td>656</td>\n",
              "      <td>656</td>\n",
              "      <td>647</td>\n",
              "      <td>656</td>\n",
              "      <td>646</td>\n",
              "      <td>656</td>\n",
              "      <td>656</td>\n",
              "      <td>656</td>\n",
              "      <td>656</td>\n",
              "      <td>656</td>\n",
              "      <td>656</td>\n",
              "      <td>656</td>\n",
              "      <td>656</td>\n",
              "      <td>656</td>\n",
              "      <td>656</td>\n",
              "      <td>656</td>\n",
              "      <td>656</td>\n",
              "      <td>614</td>\n",
              "      <td>656</td>\n",
              "      <td>474</td>\n",
              "      <td>630</td>\n",
              "      <td>656</td>\n",
              "      <td>656</td>\n",
              "      <td>656</td>\n",
              "      <td>656</td>\n",
              "      <td>656</td>\n",
              "      <td>656</td>\n",
              "      <td>656</td>\n",
              "      <td>656</td>\n",
              "      <td>656</td>\n",
              "      <td>656</td>\n",
              "      <td>656</td>\n",
              "      <td>656</td>\n",
              "      <td>656</td>\n",
              "    </tr>\n",
              "    <tr>\n",
              "      <th>rainwater harvesting</th>\n",
              "      <td>2295</td>\n",
              "      <td>2295</td>\n",
              "      <td>2295</td>\n",
              "      <td>2295</td>\n",
              "      <td>2099</td>\n",
              "      <td>2295</td>\n",
              "      <td>2096</td>\n",
              "      <td>2295</td>\n",
              "      <td>2295</td>\n",
              "      <td>2295</td>\n",
              "      <td>2295</td>\n",
              "      <td>2295</td>\n",
              "      <td>2293</td>\n",
              "      <td>2295</td>\n",
              "      <td>2295</td>\n",
              "      <td>2295</td>\n",
              "      <td>2295</td>\n",
              "      <td>2295</td>\n",
              "      <td>2295</td>\n",
              "      <td>2089</td>\n",
              "      <td>2295</td>\n",
              "      <td>319</td>\n",
              "      <td>2039</td>\n",
              "      <td>2295</td>\n",
              "      <td>2295</td>\n",
              "      <td>2295</td>\n",
              "      <td>2295</td>\n",
              "      <td>2295</td>\n",
              "      <td>2295</td>\n",
              "      <td>2295</td>\n",
              "      <td>2295</td>\n",
              "      <td>2295</td>\n",
              "      <td>2295</td>\n",
              "      <td>2295</td>\n",
              "      <td>2295</td>\n",
              "      <td>2295</td>\n",
              "    </tr>\n",
              "    <tr>\n",
              "      <th>river/lake</th>\n",
              "      <td>10377</td>\n",
              "      <td>10377</td>\n",
              "      <td>10377</td>\n",
              "      <td>10377</td>\n",
              "      <td>9478</td>\n",
              "      <td>10377</td>\n",
              "      <td>9483</td>\n",
              "      <td>10377</td>\n",
              "      <td>10377</td>\n",
              "      <td>10377</td>\n",
              "      <td>10377</td>\n",
              "      <td>10377</td>\n",
              "      <td>10376</td>\n",
              "      <td>10377</td>\n",
              "      <td>10377</td>\n",
              "      <td>10377</td>\n",
              "      <td>10377</td>\n",
              "      <td>10377</td>\n",
              "      <td>10377</td>\n",
              "      <td>10171</td>\n",
              "      <td>10377</td>\n",
              "      <td>8627</td>\n",
              "      <td>10013</td>\n",
              "      <td>10377</td>\n",
              "      <td>10377</td>\n",
              "      <td>10377</td>\n",
              "      <td>10377</td>\n",
              "      <td>10377</td>\n",
              "      <td>10377</td>\n",
              "      <td>10377</td>\n",
              "      <td>10377</td>\n",
              "      <td>10377</td>\n",
              "      <td>10377</td>\n",
              "      <td>10377</td>\n",
              "      <td>10377</td>\n",
              "      <td>10377</td>\n",
              "    </tr>\n",
              "    <tr>\n",
              "      <th>unknown</th>\n",
              "      <th>other</th>\n",
              "      <td>278</td>\n",
              "      <td>278</td>\n",
              "      <td>278</td>\n",
              "      <td>278</td>\n",
              "      <td>249</td>\n",
              "      <td>278</td>\n",
              "      <td>250</td>\n",
              "      <td>278</td>\n",
              "      <td>278</td>\n",
              "      <td>278</td>\n",
              "      <td>278</td>\n",
              "      <td>278</td>\n",
              "      <td>278</td>\n",
              "      <td>278</td>\n",
              "      <td>278</td>\n",
              "      <td>278</td>\n",
              "      <td>278</td>\n",
              "      <td>278</td>\n",
              "      <td>278</td>\n",
              "      <td>246</td>\n",
              "      <td>278</td>\n",
              "      <td>169</td>\n",
              "      <td>266</td>\n",
              "      <td>278</td>\n",
              "      <td>278</td>\n",
              "      <td>278</td>\n",
              "      <td>278</td>\n",
              "      <td>278</td>\n",
              "      <td>278</td>\n",
              "      <td>278</td>\n",
              "      <td>278</td>\n",
              "      <td>278</td>\n",
              "      <td>278</td>\n",
              "      <td>278</td>\n",
              "      <td>278</td>\n",
              "      <td>278</td>\n",
              "    </tr>\n",
              "  </tbody>\n",
              "</table>\n",
              "</div>"
            ],
            "text/plain": [
              "                                      id  ...  waterpoint_type_group\n",
              "source_class source_type                  ...                       \n",
              "groundwater  borehole              11949  ...                  11949\n",
              "             shallow well          16824  ...                  16824\n",
              "             spring                17021  ...                  17021\n",
              "surface      dam                     656  ...                    656\n",
              "             rainwater harvesting   2295  ...                   2295\n",
              "             river/lake            10377  ...                  10377\n",
              "unknown      other                   278  ...                    278\n",
              "\n",
              "[7 rows x 36 columns]"
            ]
          },
          "metadata": {},
          "execution_count": 949
        }
      ]
    },
    {
      "cell_type": "code",
      "metadata": {
        "id": "EvtR5pkeUG2H"
      },
      "source": [
        "# above three columns has same kind of info we keep source column\n",
        "df.drop(columns=[ 'source_class', 'source_type'],inplace=True )"
      ],
      "execution_count": 950,
      "outputs": []
    },
    {
      "cell_type": "code",
      "metadata": {
        "colab": {
          "base_uri": "https://localhost:8080/"
        },
        "id": "t3HiPsXvKqhQ",
        "outputId": "89aa934c-484e-4a75-a498-149a7de7c162"
      },
      "source": [
        "df['water_quality'].value_counts()"
      ],
      "execution_count": 951,
      "outputs": [
        {
          "output_type": "execute_result",
          "data": {
            "text/plain": [
              "soft                  50818\n",
              "salty                  4856\n",
              "unknown                1876\n",
              "milky                   804\n",
              "coloured                490\n",
              "salty abandoned         339\n",
              "fluoride                200\n",
              "fluoride abandoned       17\n",
              "Name: water_quality, dtype: int64"
            ]
          },
          "metadata": {},
          "execution_count": 951
        }
      ]
    },
    {
      "cell_type": "code",
      "metadata": {
        "colab": {
          "base_uri": "https://localhost:8080/"
        },
        "id": "ktPFBtIaKsWt",
        "outputId": "4aa720ac-66c0-4613-c36d-28a30ceffb5a"
      },
      "source": [
        "df['quality_group'].value_counts()"
      ],
      "execution_count": 952,
      "outputs": [
        {
          "output_type": "execute_result",
          "data": {
            "text/plain": [
              "good        50818\n",
              "salty        5195\n",
              "unknown      1876\n",
              "milky         804\n",
              "colored       490\n",
              "fluoride      217\n",
              "Name: quality_group, dtype: int64"
            ]
          },
          "metadata": {},
          "execution_count": 952
        }
      ]
    },
    {
      "cell_type": "code",
      "metadata": {
        "id": "Fhkg9RZ_UgFa"
      },
      "source": [
        "# water quality has more unique values we keep that column\n",
        "df.drop(columns=[ 'quality_group'],inplace=True )"
      ],
      "execution_count": 953,
      "outputs": []
    },
    {
      "cell_type": "code",
      "metadata": {
        "colab": {
          "base_uri": "https://localhost:8080/"
        },
        "id": "pWFSVP6qc2ET",
        "outputId": "6756990d-b453-4b32-cb19-230bfa967c64"
      },
      "source": [
        "df['amount_tsh'].value_counts()"
      ],
      "execution_count": 954,
      "outputs": [
        {
          "output_type": "execute_result",
          "data": {
            "text/plain": [
              "0.0         41639\n",
              "500.0        3102\n",
              "50.0         2472\n",
              "1000.0       1488\n",
              "20.0         1463\n",
              "            ...  \n",
              "8500.0          1\n",
              "6300.0          1\n",
              "220.0           1\n",
              "138000.0        1\n",
              "12.0            1\n",
              "Name: amount_tsh, Length: 98, dtype: int64"
            ]
          },
          "metadata": {},
          "execution_count": 954
        }
      ]
    },
    {
      "cell_type": "code",
      "metadata": {
        "colab": {
          "base_uri": "https://localhost:8080/",
          "height": 225
        },
        "id": "Z5gp41r9c8Fm",
        "outputId": "0d148f0d-2fef-48a3-e98e-8bbd8aebec63"
      },
      "source": [
        "df.loc[df['amount_tsh']==0].groupby('status_group').count()"
      ],
      "execution_count": 955,
      "outputs": [
        {
          "output_type": "execute_result",
          "data": {
            "text/html": [
              "<div>\n",
              "<style scoped>\n",
              "    .dataframe tbody tr th:only-of-type {\n",
              "        vertical-align: middle;\n",
              "    }\n",
              "\n",
              "    .dataframe tbody tr th {\n",
              "        vertical-align: top;\n",
              "    }\n",
              "\n",
              "    .dataframe thead th {\n",
              "        text-align: right;\n",
              "    }\n",
              "</style>\n",
              "<table border=\"1\" class=\"dataframe\">\n",
              "  <thead>\n",
              "    <tr style=\"text-align: right;\">\n",
              "      <th></th>\n",
              "      <th>id</th>\n",
              "      <th>amount_tsh</th>\n",
              "      <th>date_recorded</th>\n",
              "      <th>funder</th>\n",
              "      <th>gps_height</th>\n",
              "      <th>installer</th>\n",
              "      <th>longitude</th>\n",
              "      <th>latitude</th>\n",
              "      <th>wpt_name</th>\n",
              "      <th>num_private</th>\n",
              "      <th>basin</th>\n",
              "      <th>subvillage</th>\n",
              "      <th>region</th>\n",
              "      <th>region_code</th>\n",
              "      <th>district_code</th>\n",
              "      <th>lga</th>\n",
              "      <th>ward</th>\n",
              "      <th>population</th>\n",
              "      <th>public_meeting</th>\n",
              "      <th>recorded_by</th>\n",
              "      <th>scheme_name</th>\n",
              "      <th>permit</th>\n",
              "      <th>construction_year</th>\n",
              "      <th>extraction_type</th>\n",
              "      <th>extraction_type_group</th>\n",
              "      <th>extraction_type_class</th>\n",
              "      <th>management</th>\n",
              "      <th>payment</th>\n",
              "      <th>payment_type</th>\n",
              "      <th>water_quality</th>\n",
              "      <th>quantity</th>\n",
              "      <th>source</th>\n",
              "      <th>waterpoint_type</th>\n",
              "      <th>waterpoint_type_group</th>\n",
              "    </tr>\n",
              "    <tr>\n",
              "      <th>status_group</th>\n",
              "      <th></th>\n",
              "      <th></th>\n",
              "      <th></th>\n",
              "      <th></th>\n",
              "      <th></th>\n",
              "      <th></th>\n",
              "      <th></th>\n",
              "      <th></th>\n",
              "      <th></th>\n",
              "      <th></th>\n",
              "      <th></th>\n",
              "      <th></th>\n",
              "      <th></th>\n",
              "      <th></th>\n",
              "      <th></th>\n",
              "      <th></th>\n",
              "      <th></th>\n",
              "      <th></th>\n",
              "      <th></th>\n",
              "      <th></th>\n",
              "      <th></th>\n",
              "      <th></th>\n",
              "      <th></th>\n",
              "      <th></th>\n",
              "      <th></th>\n",
              "      <th></th>\n",
              "      <th></th>\n",
              "      <th></th>\n",
              "      <th></th>\n",
              "      <th></th>\n",
              "      <th></th>\n",
              "      <th></th>\n",
              "      <th></th>\n",
              "      <th></th>\n",
              "    </tr>\n",
              "  </thead>\n",
              "  <tbody>\n",
              "    <tr>\n",
              "      <th>functional</th>\n",
              "      <td>19706</td>\n",
              "      <td>19706</td>\n",
              "      <td>19706</td>\n",
              "      <td>18026</td>\n",
              "      <td>19706</td>\n",
              "      <td>18012</td>\n",
              "      <td>19706</td>\n",
              "      <td>19706</td>\n",
              "      <td>19706</td>\n",
              "      <td>19706</td>\n",
              "      <td>19706</td>\n",
              "      <td>19501</td>\n",
              "      <td>19706</td>\n",
              "      <td>19706</td>\n",
              "      <td>19706</td>\n",
              "      <td>19706</td>\n",
              "      <td>19706</td>\n",
              "      <td>19706</td>\n",
              "      <td>18444</td>\n",
              "      <td>19706</td>\n",
              "      <td>8759</td>\n",
              "      <td>18374</td>\n",
              "      <td>19706</td>\n",
              "      <td>19706</td>\n",
              "      <td>19706</td>\n",
              "      <td>19706</td>\n",
              "      <td>19706</td>\n",
              "      <td>19706</td>\n",
              "      <td>19706</td>\n",
              "      <td>19706</td>\n",
              "      <td>19706</td>\n",
              "      <td>19706</td>\n",
              "      <td>19706</td>\n",
              "      <td>19706</td>\n",
              "    </tr>\n",
              "    <tr>\n",
              "      <th>functional needs repair</th>\n",
              "      <td>3048</td>\n",
              "      <td>3048</td>\n",
              "      <td>3048</td>\n",
              "      <td>2635</td>\n",
              "      <td>3048</td>\n",
              "      <td>2633</td>\n",
              "      <td>3048</td>\n",
              "      <td>3048</td>\n",
              "      <td>3048</td>\n",
              "      <td>3048</td>\n",
              "      <td>3048</td>\n",
              "      <td>3047</td>\n",
              "      <td>3048</td>\n",
              "      <td>3048</td>\n",
              "      <td>3048</td>\n",
              "      <td>3048</td>\n",
              "      <td>3048</td>\n",
              "      <td>3048</td>\n",
              "      <td>2906</td>\n",
              "      <td>3048</td>\n",
              "      <td>1286</td>\n",
              "      <td>2775</td>\n",
              "      <td>3048</td>\n",
              "      <td>3048</td>\n",
              "      <td>3048</td>\n",
              "      <td>3048</td>\n",
              "      <td>3048</td>\n",
              "      <td>3048</td>\n",
              "      <td>3048</td>\n",
              "      <td>3048</td>\n",
              "      <td>3048</td>\n",
              "      <td>3048</td>\n",
              "      <td>3048</td>\n",
              "      <td>3048</td>\n",
              "    </tr>\n",
              "    <tr>\n",
              "      <th>non functional</th>\n",
              "      <td>18885</td>\n",
              "      <td>18885</td>\n",
              "      <td>18885</td>\n",
              "      <td>17697</td>\n",
              "      <td>18885</td>\n",
              "      <td>17698</td>\n",
              "      <td>18885</td>\n",
              "      <td>18885</td>\n",
              "      <td>18885</td>\n",
              "      <td>18885</td>\n",
              "      <td>18885</td>\n",
              "      <td>18720</td>\n",
              "      <td>18885</td>\n",
              "      <td>18885</td>\n",
              "      <td>18885</td>\n",
              "      <td>18885</td>\n",
              "      <td>18885</td>\n",
              "      <td>18885</td>\n",
              "      <td>17475</td>\n",
              "      <td>18885</td>\n",
              "      <td>8619</td>\n",
              "      <td>17862</td>\n",
              "      <td>18885</td>\n",
              "      <td>18885</td>\n",
              "      <td>18885</td>\n",
              "      <td>18885</td>\n",
              "      <td>18885</td>\n",
              "      <td>18885</td>\n",
              "      <td>18885</td>\n",
              "      <td>18885</td>\n",
              "      <td>18885</td>\n",
              "      <td>18885</td>\n",
              "      <td>18885</td>\n",
              "      <td>18885</td>\n",
              "    </tr>\n",
              "  </tbody>\n",
              "</table>\n",
              "</div>"
            ],
            "text/plain": [
              "                            id  ...  waterpoint_type_group\n",
              "status_group                    ...                       \n",
              "functional               19706  ...                  19706\n",
              "functional needs repair   3048  ...                   3048\n",
              "non functional           18885  ...                  18885\n",
              "\n",
              "[3 rows x 34 columns]"
            ]
          },
          "metadata": {},
          "execution_count": 955
        }
      ]
    },
    {
      "cell_type": "code",
      "metadata": {
        "id": "dUJ0qUuhdB-b"
      },
      "source": [
        "# much data does not give any point so we drop it\n",
        "df.drop(columns=['amount_tsh'],inplace=True )"
      ],
      "execution_count": 956,
      "outputs": []
    },
    {
      "cell_type": "code",
      "metadata": {
        "colab": {
          "base_uri": "https://localhost:8080/"
        },
        "id": "XyflcoU2KzPp",
        "outputId": "80b3f982-d710-4862-8835-849e1e2303f4"
      },
      "source": [
        "df['payment'].value_counts()"
      ],
      "execution_count": 957,
      "outputs": [
        {
          "output_type": "execute_result",
          "data": {
            "text/plain": [
              "never pay                25348\n",
              "pay per bucket            8985\n",
              "pay monthly               8300\n",
              "unknown                   8157\n",
              "pay when scheme fails     3914\n",
              "pay annually              3642\n",
              "other                     1054\n",
              "Name: payment, dtype: int64"
            ]
          },
          "metadata": {},
          "execution_count": 957
        }
      ]
    },
    {
      "cell_type": "code",
      "metadata": {
        "colab": {
          "base_uri": "https://localhost:8080/"
        },
        "id": "mMgt5RGsK2v-",
        "outputId": "276357b2-08eb-41a7-8644-b0d1d75efc18"
      },
      "source": [
        "df['payment_type'].value_counts()"
      ],
      "execution_count": 958,
      "outputs": [
        {
          "output_type": "execute_result",
          "data": {
            "text/plain": [
              "never pay     25348\n",
              "per bucket     8985\n",
              "monthly        8300\n",
              "unknown        8157\n",
              "on failure     3914\n",
              "annually       3642\n",
              "other          1054\n",
              "Name: payment_type, dtype: int64"
            ]
          },
          "metadata": {},
          "execution_count": 958
        }
      ]
    },
    {
      "cell_type": "code",
      "metadata": {
        "id": "AAxHG_JUU0E3"
      },
      "source": [
        "# above two columns same we drop payment_type\n",
        "df.drop(columns=[ 'payment_type'],inplace=True )"
      ],
      "execution_count": 959,
      "outputs": []
    },
    {
      "cell_type": "code",
      "metadata": {
        "colab": {
          "base_uri": "https://localhost:8080/"
        },
        "id": "eD_b780mLi59",
        "outputId": "bf1ca508-792e-4e1c-be7d-2e84e1d85780"
      },
      "source": [
        "df['recorded_by'].value_counts()"
      ],
      "execution_count": 960,
      "outputs": [
        {
          "output_type": "execute_result",
          "data": {
            "text/plain": [
              "GeoData Consultants Ltd    59400\n",
              "Name: recorded_by, dtype: int64"
            ]
          },
          "metadata": {},
          "execution_count": 960
        }
      ]
    },
    {
      "cell_type": "code",
      "metadata": {
        "id": "sM6DI6uvLk95"
      },
      "source": [
        "# this has only one value not going to help\n",
        "df.drop(columns=['recorded_by'],inplace=True )"
      ],
      "execution_count": 961,
      "outputs": []
    },
    {
      "cell_type": "code",
      "metadata": {
        "colab": {
          "base_uri": "https://localhost:8080/"
        },
        "id": "1SoR7S4CK7Cr",
        "outputId": "a8b31a3e-2c54-4471-f3b8-e36258522c86"
      },
      "source": [
        "df['extraction_type'].value_counts()"
      ],
      "execution_count": 962,
      "outputs": [
        {
          "output_type": "execute_result",
          "data": {
            "text/plain": [
              "gravity                      26780\n",
              "nira/tanira                   8154\n",
              "other                         6430\n",
              "submersible                   4764\n",
              "swn 80                        3670\n",
              "mono                          2865\n",
              "india mark ii                 2400\n",
              "afridev                       1770\n",
              "ksb                           1415\n",
              "other - rope pump              451\n",
              "other - swn 81                 229\n",
              "windmill                       117\n",
              "india mark iii                  98\n",
              "cemo                            90\n",
              "other - play pump               85\n",
              "walimi                          48\n",
              "climax                          32\n",
              "other - mkulima/shinyanga        2\n",
              "Name: extraction_type, dtype: int64"
            ]
          },
          "metadata": {},
          "execution_count": 962
        }
      ]
    },
    {
      "cell_type": "code",
      "metadata": {
        "colab": {
          "base_uri": "https://localhost:8080/"
        },
        "id": "vMPoo9_AK9MG",
        "outputId": "1992830b-00d5-4d5c-998e-bc4f4af2e6d0"
      },
      "source": [
        "df['extraction_type_group'].value_counts()"
      ],
      "execution_count": 963,
      "outputs": [
        {
          "output_type": "execute_result",
          "data": {
            "text/plain": [
              "gravity            26780\n",
              "nira/tanira         8154\n",
              "other               6430\n",
              "submersible         6179\n",
              "swn 80              3670\n",
              "mono                2865\n",
              "india mark ii       2400\n",
              "afridev             1770\n",
              "rope pump            451\n",
              "other handpump       364\n",
              "other motorpump      122\n",
              "wind-powered         117\n",
              "india mark iii        98\n",
              "Name: extraction_type_group, dtype: int64"
            ]
          },
          "metadata": {},
          "execution_count": 963
        }
      ]
    },
    {
      "cell_type": "code",
      "metadata": {
        "colab": {
          "base_uri": "https://localhost:8080/"
        },
        "id": "JQoPQ--zK_LH",
        "outputId": "05ca6e2d-bd61-4967-e3a0-f5d506fedca2"
      },
      "source": [
        "df['extraction_type_class'].value_counts()"
      ],
      "execution_count": 964,
      "outputs": [
        {
          "output_type": "execute_result",
          "data": {
            "text/plain": [
              "gravity         26780\n",
              "handpump        16456\n",
              "other            6430\n",
              "submersible      6179\n",
              "motorpump        2987\n",
              "rope pump         451\n",
              "wind-powered      117\n",
              "Name: extraction_type_class, dtype: int64"
            ]
          },
          "metadata": {},
          "execution_count": 964
        }
      ]
    },
    {
      "cell_type": "code",
      "metadata": {
        "colab": {
          "base_uri": "https://localhost:8080/",
          "height": 499
        },
        "id": "uIXUxXJ0LBYn",
        "outputId": "324f68d6-e897-42a8-b163-c0bdbb6a2457"
      },
      "source": [
        "df.groupby(['extraction_type_class','extraction_type_group']).count()"
      ],
      "execution_count": 965,
      "outputs": [
        {
          "output_type": "execute_result",
          "data": {
            "text/html": [
              "<div>\n",
              "<style scoped>\n",
              "    .dataframe tbody tr th:only-of-type {\n",
              "        vertical-align: middle;\n",
              "    }\n",
              "\n",
              "    .dataframe tbody tr th {\n",
              "        vertical-align: top;\n",
              "    }\n",
              "\n",
              "    .dataframe thead th {\n",
              "        text-align: right;\n",
              "    }\n",
              "</style>\n",
              "<table border=\"1\" class=\"dataframe\">\n",
              "  <thead>\n",
              "    <tr style=\"text-align: right;\">\n",
              "      <th></th>\n",
              "      <th></th>\n",
              "      <th>id</th>\n",
              "      <th>status_group</th>\n",
              "      <th>date_recorded</th>\n",
              "      <th>funder</th>\n",
              "      <th>gps_height</th>\n",
              "      <th>installer</th>\n",
              "      <th>longitude</th>\n",
              "      <th>latitude</th>\n",
              "      <th>wpt_name</th>\n",
              "      <th>num_private</th>\n",
              "      <th>basin</th>\n",
              "      <th>subvillage</th>\n",
              "      <th>region</th>\n",
              "      <th>region_code</th>\n",
              "      <th>district_code</th>\n",
              "      <th>lga</th>\n",
              "      <th>ward</th>\n",
              "      <th>population</th>\n",
              "      <th>public_meeting</th>\n",
              "      <th>scheme_name</th>\n",
              "      <th>permit</th>\n",
              "      <th>construction_year</th>\n",
              "      <th>extraction_type</th>\n",
              "      <th>management</th>\n",
              "      <th>payment</th>\n",
              "      <th>water_quality</th>\n",
              "      <th>quantity</th>\n",
              "      <th>source</th>\n",
              "      <th>waterpoint_type</th>\n",
              "      <th>waterpoint_type_group</th>\n",
              "    </tr>\n",
              "    <tr>\n",
              "      <th>extraction_type_class</th>\n",
              "      <th>extraction_type_group</th>\n",
              "      <th></th>\n",
              "      <th></th>\n",
              "      <th></th>\n",
              "      <th></th>\n",
              "      <th></th>\n",
              "      <th></th>\n",
              "      <th></th>\n",
              "      <th></th>\n",
              "      <th></th>\n",
              "      <th></th>\n",
              "      <th></th>\n",
              "      <th></th>\n",
              "      <th></th>\n",
              "      <th></th>\n",
              "      <th></th>\n",
              "      <th></th>\n",
              "      <th></th>\n",
              "      <th></th>\n",
              "      <th></th>\n",
              "      <th></th>\n",
              "      <th></th>\n",
              "      <th></th>\n",
              "      <th></th>\n",
              "      <th></th>\n",
              "      <th></th>\n",
              "      <th></th>\n",
              "      <th></th>\n",
              "      <th></th>\n",
              "      <th></th>\n",
              "      <th></th>\n",
              "    </tr>\n",
              "  </thead>\n",
              "  <tbody>\n",
              "    <tr>\n",
              "      <th>gravity</th>\n",
              "      <th>gravity</th>\n",
              "      <td>26780</td>\n",
              "      <td>26780</td>\n",
              "      <td>26780</td>\n",
              "      <td>24704</td>\n",
              "      <td>26780</td>\n",
              "      <td>24714</td>\n",
              "      <td>26780</td>\n",
              "      <td>26780</td>\n",
              "      <td>26780</td>\n",
              "      <td>26780</td>\n",
              "      <td>26780</td>\n",
              "      <td>26646</td>\n",
              "      <td>26780</td>\n",
              "      <td>26780</td>\n",
              "      <td>26780</td>\n",
              "      <td>26780</td>\n",
              "      <td>26780</td>\n",
              "      <td>26780</td>\n",
              "      <td>25829</td>\n",
              "      <td>21846</td>\n",
              "      <td>25234</td>\n",
              "      <td>26780</td>\n",
              "      <td>26780</td>\n",
              "      <td>26780</td>\n",
              "      <td>26780</td>\n",
              "      <td>26780</td>\n",
              "      <td>26780</td>\n",
              "      <td>26780</td>\n",
              "      <td>26780</td>\n",
              "      <td>26780</td>\n",
              "    </tr>\n",
              "    <tr>\n",
              "      <th rowspan=\"6\" valign=\"top\">handpump</th>\n",
              "      <th>afridev</th>\n",
              "      <td>1770</td>\n",
              "      <td>1770</td>\n",
              "      <td>1770</td>\n",
              "      <td>1668</td>\n",
              "      <td>1770</td>\n",
              "      <td>1665</td>\n",
              "      <td>1770</td>\n",
              "      <td>1770</td>\n",
              "      <td>1770</td>\n",
              "      <td>1770</td>\n",
              "      <td>1770</td>\n",
              "      <td>1770</td>\n",
              "      <td>1770</td>\n",
              "      <td>1770</td>\n",
              "      <td>1770</td>\n",
              "      <td>1770</td>\n",
              "      <td>1770</td>\n",
              "      <td>1770</td>\n",
              "      <td>1624</td>\n",
              "      <td>216</td>\n",
              "      <td>1660</td>\n",
              "      <td>1770</td>\n",
              "      <td>1770</td>\n",
              "      <td>1770</td>\n",
              "      <td>1770</td>\n",
              "      <td>1770</td>\n",
              "      <td>1770</td>\n",
              "      <td>1770</td>\n",
              "      <td>1770</td>\n",
              "      <td>1770</td>\n",
              "    </tr>\n",
              "    <tr>\n",
              "      <th>india mark ii</th>\n",
              "      <td>2400</td>\n",
              "      <td>2400</td>\n",
              "      <td>2400</td>\n",
              "      <td>2358</td>\n",
              "      <td>2400</td>\n",
              "      <td>2358</td>\n",
              "      <td>2400</td>\n",
              "      <td>2400</td>\n",
              "      <td>2400</td>\n",
              "      <td>2400</td>\n",
              "      <td>2400</td>\n",
              "      <td>2400</td>\n",
              "      <td>2400</td>\n",
              "      <td>2400</td>\n",
              "      <td>2400</td>\n",
              "      <td>2400</td>\n",
              "      <td>2400</td>\n",
              "      <td>2400</td>\n",
              "      <td>2297</td>\n",
              "      <td>200</td>\n",
              "      <td>2359</td>\n",
              "      <td>2400</td>\n",
              "      <td>2400</td>\n",
              "      <td>2400</td>\n",
              "      <td>2400</td>\n",
              "      <td>2400</td>\n",
              "      <td>2400</td>\n",
              "      <td>2400</td>\n",
              "      <td>2400</td>\n",
              "      <td>2400</td>\n",
              "    </tr>\n",
              "    <tr>\n",
              "      <th>india mark iii</th>\n",
              "      <td>98</td>\n",
              "      <td>98</td>\n",
              "      <td>98</td>\n",
              "      <td>98</td>\n",
              "      <td>98</td>\n",
              "      <td>98</td>\n",
              "      <td>98</td>\n",
              "      <td>98</td>\n",
              "      <td>98</td>\n",
              "      <td>98</td>\n",
              "      <td>98</td>\n",
              "      <td>98</td>\n",
              "      <td>98</td>\n",
              "      <td>98</td>\n",
              "      <td>98</td>\n",
              "      <td>98</td>\n",
              "      <td>98</td>\n",
              "      <td>98</td>\n",
              "      <td>88</td>\n",
              "      <td>3</td>\n",
              "      <td>98</td>\n",
              "      <td>98</td>\n",
              "      <td>98</td>\n",
              "      <td>98</td>\n",
              "      <td>98</td>\n",
              "      <td>98</td>\n",
              "      <td>98</td>\n",
              "      <td>98</td>\n",
              "      <td>98</td>\n",
              "      <td>98</td>\n",
              "    </tr>\n",
              "    <tr>\n",
              "      <th>nira/tanira</th>\n",
              "      <td>8154</td>\n",
              "      <td>8154</td>\n",
              "      <td>8154</td>\n",
              "      <td>7899</td>\n",
              "      <td>8154</td>\n",
              "      <td>7885</td>\n",
              "      <td>8154</td>\n",
              "      <td>8154</td>\n",
              "      <td>8154</td>\n",
              "      <td>8154</td>\n",
              "      <td>8154</td>\n",
              "      <td>8151</td>\n",
              "      <td>8154</td>\n",
              "      <td>8154</td>\n",
              "      <td>8154</td>\n",
              "      <td>8154</td>\n",
              "      <td>8154</td>\n",
              "      <td>8154</td>\n",
              "      <td>7478</td>\n",
              "      <td>769</td>\n",
              "      <td>7920</td>\n",
              "      <td>8154</td>\n",
              "      <td>8154</td>\n",
              "      <td>8154</td>\n",
              "      <td>8154</td>\n",
              "      <td>8154</td>\n",
              "      <td>8154</td>\n",
              "      <td>8154</td>\n",
              "      <td>8154</td>\n",
              "      <td>8154</td>\n",
              "    </tr>\n",
              "    <tr>\n",
              "      <th>other handpump</th>\n",
              "      <td>364</td>\n",
              "      <td>364</td>\n",
              "      <td>364</td>\n",
              "      <td>353</td>\n",
              "      <td>364</td>\n",
              "      <td>354</td>\n",
              "      <td>364</td>\n",
              "      <td>364</td>\n",
              "      <td>364</td>\n",
              "      <td>364</td>\n",
              "      <td>364</td>\n",
              "      <td>364</td>\n",
              "      <td>364</td>\n",
              "      <td>364</td>\n",
              "      <td>364</td>\n",
              "      <td>364</td>\n",
              "      <td>364</td>\n",
              "      <td>364</td>\n",
              "      <td>348</td>\n",
              "      <td>79</td>\n",
              "      <td>356</td>\n",
              "      <td>364</td>\n",
              "      <td>364</td>\n",
              "      <td>364</td>\n",
              "      <td>364</td>\n",
              "      <td>364</td>\n",
              "      <td>364</td>\n",
              "      <td>364</td>\n",
              "      <td>364</td>\n",
              "      <td>364</td>\n",
              "    </tr>\n",
              "    <tr>\n",
              "      <th>swn 80</th>\n",
              "      <td>3670</td>\n",
              "      <td>3670</td>\n",
              "      <td>3670</td>\n",
              "      <td>3596</td>\n",
              "      <td>3670</td>\n",
              "      <td>3593</td>\n",
              "      <td>3670</td>\n",
              "      <td>3670</td>\n",
              "      <td>3670</td>\n",
              "      <td>3670</td>\n",
              "      <td>3670</td>\n",
              "      <td>3670</td>\n",
              "      <td>3670</td>\n",
              "      <td>3670</td>\n",
              "      <td>3670</td>\n",
              "      <td>3670</td>\n",
              "      <td>3670</td>\n",
              "      <td>3670</td>\n",
              "      <td>3503</td>\n",
              "      <td>155</td>\n",
              "      <td>3655</td>\n",
              "      <td>3670</td>\n",
              "      <td>3670</td>\n",
              "      <td>3670</td>\n",
              "      <td>3670</td>\n",
              "      <td>3670</td>\n",
              "      <td>3670</td>\n",
              "      <td>3670</td>\n",
              "      <td>3670</td>\n",
              "      <td>3670</td>\n",
              "    </tr>\n",
              "    <tr>\n",
              "      <th rowspan=\"2\" valign=\"top\">motorpump</th>\n",
              "      <th>mono</th>\n",
              "      <td>2865</td>\n",
              "      <td>2865</td>\n",
              "      <td>2865</td>\n",
              "      <td>2577</td>\n",
              "      <td>2865</td>\n",
              "      <td>2578</td>\n",
              "      <td>2865</td>\n",
              "      <td>2865</td>\n",
              "      <td>2865</td>\n",
              "      <td>2865</td>\n",
              "      <td>2865</td>\n",
              "      <td>2748</td>\n",
              "      <td>2865</td>\n",
              "      <td>2865</td>\n",
              "      <td>2865</td>\n",
              "      <td>2865</td>\n",
              "      <td>2865</td>\n",
              "      <td>2865</td>\n",
              "      <td>2760</td>\n",
              "      <td>2221</td>\n",
              "      <td>2582</td>\n",
              "      <td>2865</td>\n",
              "      <td>2865</td>\n",
              "      <td>2865</td>\n",
              "      <td>2865</td>\n",
              "      <td>2865</td>\n",
              "      <td>2865</td>\n",
              "      <td>2865</td>\n",
              "      <td>2865</td>\n",
              "      <td>2865</td>\n",
              "    </tr>\n",
              "    <tr>\n",
              "      <th>other motorpump</th>\n",
              "      <td>122</td>\n",
              "      <td>122</td>\n",
              "      <td>122</td>\n",
              "      <td>122</td>\n",
              "      <td>122</td>\n",
              "      <td>122</td>\n",
              "      <td>122</td>\n",
              "      <td>122</td>\n",
              "      <td>122</td>\n",
              "      <td>122</td>\n",
              "      <td>122</td>\n",
              "      <td>122</td>\n",
              "      <td>122</td>\n",
              "      <td>122</td>\n",
              "      <td>122</td>\n",
              "      <td>122</td>\n",
              "      <td>122</td>\n",
              "      <td>122</td>\n",
              "      <td>122</td>\n",
              "      <td>118</td>\n",
              "      <td>122</td>\n",
              "      <td>122</td>\n",
              "      <td>122</td>\n",
              "      <td>122</td>\n",
              "      <td>122</td>\n",
              "      <td>122</td>\n",
              "      <td>122</td>\n",
              "      <td>122</td>\n",
              "      <td>122</td>\n",
              "      <td>122</td>\n",
              "    </tr>\n",
              "    <tr>\n",
              "      <th>other</th>\n",
              "      <th>other</th>\n",
              "      <td>6430</td>\n",
              "      <td>6430</td>\n",
              "      <td>6430</td>\n",
              "      <td>6010</td>\n",
              "      <td>6430</td>\n",
              "      <td>6002</td>\n",
              "      <td>6430</td>\n",
              "      <td>6430</td>\n",
              "      <td>6430</td>\n",
              "      <td>6430</td>\n",
              "      <td>6430</td>\n",
              "      <td>6421</td>\n",
              "      <td>6430</td>\n",
              "      <td>6430</td>\n",
              "      <td>6430</td>\n",
              "      <td>6430</td>\n",
              "      <td>6430</td>\n",
              "      <td>6430</td>\n",
              "      <td>5980</td>\n",
              "      <td>930</td>\n",
              "      <td>6050</td>\n",
              "      <td>6430</td>\n",
              "      <td>6430</td>\n",
              "      <td>6430</td>\n",
              "      <td>6430</td>\n",
              "      <td>6430</td>\n",
              "      <td>6430</td>\n",
              "      <td>6430</td>\n",
              "      <td>6430</td>\n",
              "      <td>6430</td>\n",
              "    </tr>\n",
              "    <tr>\n",
              "      <th>rope pump</th>\n",
              "      <th>rope pump</th>\n",
              "      <td>451</td>\n",
              "      <td>451</td>\n",
              "      <td>451</td>\n",
              "      <td>448</td>\n",
              "      <td>451</td>\n",
              "      <td>448</td>\n",
              "      <td>451</td>\n",
              "      <td>451</td>\n",
              "      <td>451</td>\n",
              "      <td>451</td>\n",
              "      <td>451</td>\n",
              "      <td>451</td>\n",
              "      <td>451</td>\n",
              "      <td>451</td>\n",
              "      <td>451</td>\n",
              "      <td>451</td>\n",
              "      <td>451</td>\n",
              "      <td>451</td>\n",
              "      <td>346</td>\n",
              "      <td>27</td>\n",
              "      <td>349</td>\n",
              "      <td>451</td>\n",
              "      <td>451</td>\n",
              "      <td>451</td>\n",
              "      <td>451</td>\n",
              "      <td>451</td>\n",
              "      <td>451</td>\n",
              "      <td>451</td>\n",
              "      <td>451</td>\n",
              "      <td>451</td>\n",
              "    </tr>\n",
              "    <tr>\n",
              "      <th>submersible</th>\n",
              "      <th>submersible</th>\n",
              "      <td>6179</td>\n",
              "      <td>6179</td>\n",
              "      <td>6179</td>\n",
              "      <td>5820</td>\n",
              "      <td>6179</td>\n",
              "      <td>5816</td>\n",
              "      <td>6179</td>\n",
              "      <td>6179</td>\n",
              "      <td>6179</td>\n",
              "      <td>6179</td>\n",
              "      <td>6179</td>\n",
              "      <td>6071</td>\n",
              "      <td>6179</td>\n",
              "      <td>6179</td>\n",
              "      <td>6179</td>\n",
              "      <td>6179</td>\n",
              "      <td>6179</td>\n",
              "      <td>6179</td>\n",
              "      <td>5575</td>\n",
              "      <td>4596</td>\n",
              "      <td>5854</td>\n",
              "      <td>6179</td>\n",
              "      <td>6179</td>\n",
              "      <td>6179</td>\n",
              "      <td>6179</td>\n",
              "      <td>6179</td>\n",
              "      <td>6179</td>\n",
              "      <td>6179</td>\n",
              "      <td>6179</td>\n",
              "      <td>6179</td>\n",
              "    </tr>\n",
              "    <tr>\n",
              "      <th>wind-powered</th>\n",
              "      <th>wind-powered</th>\n",
              "      <td>117</td>\n",
              "      <td>117</td>\n",
              "      <td>117</td>\n",
              "      <td>112</td>\n",
              "      <td>117</td>\n",
              "      <td>112</td>\n",
              "      <td>117</td>\n",
              "      <td>117</td>\n",
              "      <td>117</td>\n",
              "      <td>117</td>\n",
              "      <td>117</td>\n",
              "      <td>117</td>\n",
              "      <td>117</td>\n",
              "      <td>117</td>\n",
              "      <td>117</td>\n",
              "      <td>117</td>\n",
              "      <td>117</td>\n",
              "      <td>117</td>\n",
              "      <td>116</td>\n",
              "      <td>74</td>\n",
              "      <td>105</td>\n",
              "      <td>117</td>\n",
              "      <td>117</td>\n",
              "      <td>117</td>\n",
              "      <td>117</td>\n",
              "      <td>117</td>\n",
              "      <td>117</td>\n",
              "      <td>117</td>\n",
              "      <td>117</td>\n",
              "      <td>117</td>\n",
              "    </tr>\n",
              "  </tbody>\n",
              "</table>\n",
              "</div>"
            ],
            "text/plain": [
              "                                                id  ...  waterpoint_type_group\n",
              "extraction_type_class extraction_type_group         ...                       \n",
              "gravity               gravity                26780  ...                  26780\n",
              "handpump              afridev                 1770  ...                   1770\n",
              "                      india mark ii           2400  ...                   2400\n",
              "                      india mark iii            98  ...                     98\n",
              "                      nira/tanira             8154  ...                   8154\n",
              "                      other handpump           364  ...                    364\n",
              "                      swn 80                  3670  ...                   3670\n",
              "motorpump             mono                    2865  ...                   2865\n",
              "                      other motorpump          122  ...                    122\n",
              "other                 other                   6430  ...                   6430\n",
              "rope pump             rope pump                451  ...                    451\n",
              "submersible           submersible             6179  ...                   6179\n",
              "wind-powered          wind-powered             117  ...                    117\n",
              "\n",
              "[13 rows x 30 columns]"
            ]
          },
          "metadata": {},
          "execution_count": 965
        }
      ]
    },
    {
      "cell_type": "code",
      "metadata": {
        "id": "V26rgRCKVBrY"
      },
      "source": [
        "# above three columns has same kind of info we keep extraction_type_group\n",
        "df.drop(columns=[ 'extraction_type_class', 'extraction_type'],inplace=True )"
      ],
      "execution_count": 966,
      "outputs": []
    },
    {
      "cell_type": "code",
      "metadata": {
        "colab": {
          "base_uri": "https://localhost:8080/"
        },
        "id": "ofW0SudsLH8x",
        "outputId": "bf0b7450-0485-4c02-a689-e85383c6d97b"
      },
      "source": [
        "df['waterpoint_type'].value_counts()"
      ],
      "execution_count": 967,
      "outputs": [
        {
          "output_type": "execute_result",
          "data": {
            "text/plain": [
              "communal standpipe             28522\n",
              "hand pump                      17488\n",
              "other                           6380\n",
              "communal standpipe multiple     6103\n",
              "improved spring                  784\n",
              "cattle trough                    116\n",
              "dam                                7\n",
              "Name: waterpoint_type, dtype: int64"
            ]
          },
          "metadata": {},
          "execution_count": 967
        }
      ]
    },
    {
      "cell_type": "code",
      "metadata": {
        "colab": {
          "base_uri": "https://localhost:8080/"
        },
        "id": "3CCkIKhALK6a",
        "outputId": "9db60fa0-8018-4813-b062-7c4613c2a455"
      },
      "source": [
        "df['waterpoint_type_group'].value_counts()"
      ],
      "execution_count": 968,
      "outputs": [
        {
          "output_type": "execute_result",
          "data": {
            "text/plain": [
              "communal standpipe    34625\n",
              "hand pump             17488\n",
              "other                  6380\n",
              "improved spring         784\n",
              "cattle trough           116\n",
              "dam                       7\n",
              "Name: waterpoint_type_group, dtype: int64"
            ]
          },
          "metadata": {},
          "execution_count": 968
        }
      ]
    },
    {
      "cell_type": "code",
      "metadata": {
        "id": "ZgXXfACqVduI"
      },
      "source": [
        "# above two columns has same kind of info we keep extraction_type_group\n",
        "df.drop(columns=[ 'waterpoint_type_group'],inplace=True )"
      ],
      "execution_count": 969,
      "outputs": []
    },
    {
      "cell_type": "code",
      "metadata": {
        "id": "MpCTN2IZNUH4"
      },
      "source": [
        "df.drop(columns=['wpt_name','scheme_name','id','region_code','date_recorded','num_private','subvillage'],inplace=True )"
      ],
      "execution_count": 970,
      "outputs": []
    },
    {
      "cell_type": "code",
      "metadata": {
        "id": "YNKzpfxxLSEb"
      },
      "source": [
        "#add new column decade from construction_year\n",
        "df['decade'] = df['construction_year']"
      ],
      "execution_count": 971,
      "outputs": []
    },
    {
      "cell_type": "code",
      "metadata": {
        "id": "yYMH5Qh7LX6N",
        "colab": {
          "base_uri": "https://localhost:8080/"
        },
        "outputId": "f578d3c4-4575-4aa0-de15-7f3f5176b269"
      },
      "source": [
        "df['decade'].value_counts()"
      ],
      "execution_count": 972,
      "outputs": [
        {
          "output_type": "execute_result",
          "data": {
            "text/plain": [
              "0       20709\n",
              "2010     2645\n",
              "2008     2613\n",
              "2009     2533\n",
              "2000     2091\n",
              "2007     1587\n",
              "2006     1471\n",
              "2003     1286\n",
              "2011     1256\n",
              "2004     1123\n",
              "2012     1084\n",
              "2002     1075\n",
              "1978     1037\n",
              "1995     1014\n",
              "2005     1011\n",
              "1999      979\n",
              "1998      966\n",
              "1990      954\n",
              "1985      945\n",
              "1980      811\n",
              "1996      811\n",
              "1984      779\n",
              "1982      744\n",
              "1994      738\n",
              "1972      708\n",
              "1974      676\n",
              "1997      644\n",
              "1992      640\n",
              "1993      608\n",
              "2001      540\n",
              "1988      521\n",
              "1983      488\n",
              "1975      437\n",
              "1986      434\n",
              "1976      414\n",
              "1970      411\n",
              "1991      324\n",
              "1989      316\n",
              "1987      302\n",
              "1981      238\n",
              "1977      202\n",
              "1979      192\n",
              "1973      184\n",
              "2013      176\n",
              "1971      145\n",
              "1960      102\n",
              "1967       88\n",
              "1963       85\n",
              "1968       77\n",
              "1969       59\n",
              "1964       40\n",
              "1962       30\n",
              "1961       21\n",
              "1965       19\n",
              "1966       17\n",
              "Name: decade, dtype: int64"
            ]
          },
          "metadata": {},
          "execution_count": 972
        }
      ]
    },
    {
      "cell_type": "code",
      "metadata": {
        "id": "vdbiCX1kWzP3"
      },
      "source": [
        "df['decade'].replace(to_replace = range(1960,1970),\n",
        "                        value ='60s' , inplace=True)\n",
        "df['decade'].replace(to_replace = range(1970,1980),\n",
        "                        value ='70s' , inplace=True)\n",
        "df['decade'].replace(to_replace = range(1980,1990),\n",
        "                        value ='80s' , inplace=True)\n",
        "df['decade'].replace(to_replace = range(1990,2000),\n",
        "                        value ='90s' , inplace=True)\n",
        "df['decade'].replace(to_replace = range(2000,2010),\n",
        "                        value ='00s' , inplace=True)\n",
        "df['decade'].replace(to_replace = range(2010,2020),\n",
        "                        value ='10s' , inplace=True)"
      ],
      "execution_count": 973,
      "outputs": []
    },
    {
      "cell_type": "code",
      "metadata": {
        "colab": {
          "base_uri": "https://localhost:8080/"
        },
        "id": "QkMXhLcnY4ZS",
        "outputId": "8a31eb46-717c-4e7b-8033-a7e95ad1e94d"
      },
      "source": [
        "df.loc[df['construction_year']!=0]['construction_year'].describe()"
      ],
      "execution_count": 974,
      "outputs": [
        {
          "output_type": "execute_result",
          "data": {
            "text/plain": [
              "count    38691.000000\n",
              "mean      1996.814686\n",
              "std         12.472045\n",
              "min       1960.000000\n",
              "25%       1987.000000\n",
              "50%       2000.000000\n",
              "75%       2008.000000\n",
              "max       2013.000000\n",
              "Name: construction_year, dtype: float64"
            ]
          },
          "metadata": {},
          "execution_count": 974
        }
      ]
    },
    {
      "cell_type": "code",
      "metadata": {
        "id": "XTLuceyALc2C"
      },
      "source": [
        "# replace 0 with round of mean\n",
        "df['construction_year'].replace(to_replace = 0, value = 2000, inplace=True)"
      ],
      "execution_count": 975,
      "outputs": []
    },
    {
      "cell_type": "code",
      "metadata": {
        "id": "T4J-vsFvafVz"
      },
      "source": [
        "df['installer'].value_counts().head(60)"
      ],
      "execution_count": null,
      "outputs": []
    },
    {
      "cell_type": "code",
      "metadata": {
        "id": "-DGp5uBZLnKT"
      },
      "source": [
        "# fill installer missing values with 0\n",
        "df['installer'].fillna(value='0',inplace=True)"
      ],
      "execution_count": 977,
      "outputs": []
    },
    {
      "cell_type": "code",
      "metadata": {
        "id": "v_SbZQAvLs9w"
      },
      "source": [
        "# same category has different names so we'll convert them\n",
        "df['installer'].replace(to_replace = ('District Water Department', 'District water depar','Distric Water Department'),\n",
        "                        value ='District water department' , inplace=True)\n",
        "\n",
        "df['installer'].replace(to_replace = ('FinW','Fini water','FINI WATER'), value ='Fini Water' , inplace=True)\n",
        "df['installer'].replace(to_replace = 'JAICA', value ='Jaica' , inplace=True)\n",
        "\n",
        "df['installer'].replace(to_replace = ('COUN', 'District COUNCIL', 'DISTRICT COUNCIL','District Counci', \n",
        "                                      'District Council','Council','Counc','District  Council','Distri'),\n",
        "                                    value ='District council' , inplace=True)\n",
        "\n",
        "df['installer'].replace(to_replace = ('RC CHURCH', 'RC Churc', 'RC','RC Ch','RC C', 'RC CH','RC church', \n",
        "                                      'RC CATHORIC',) , value ='RC Church' , inplace=True)\n",
        "\n",
        "df['installer'].replace(to_replace = ('Central Government','Tanzania Government',\n",
        "                                       'central government','Cental Government', 'Cebtral Government', \n",
        "                                      'Tanzanian Government','Tanzania government', 'Centra Government' ,\n",
        "                                      'CENTRAL GOVERNMENT', 'TANZANIAN GOVERNMENT','Central govt', 'Centr', \n",
        "                                      'Centra govt') , value ='Central government' , inplace=True)\n",
        "\n",
        "df['installer'].replace(to_replace = ('World vision', 'World Division','World Vision'),\n",
        "                                        value ='world vision' , inplace=True)\n",
        "\n",
        "df['installer'].replace(to_replace = ('Unisef','UNICEF'),value ='Unicef' , inplace=True)\n",
        "df['installer'].replace(to_replace = 'DANID', value ='DANIDA' , inplace=True)\n",
        "\n",
        "df['installer'].replace(to_replace = ('villigers', 'villager', 'Villagers', 'Villa', 'Village', 'Villi', \n",
        "                                      'Village Council','Village Counil', 'Villages', 'Vill', 'Village community', \n",
        "                                      'Villaers', 'Village Community', 'Villag','Villege Council', 'Village council',\n",
        "                                      'Village  Council','Villagerd', 'Villager', 'Village Technician',\n",
        "                                      'Village Office','Village community members'),\n",
        "                                        value ='villagers' , inplace=True)\n",
        "\n",
        "df['installer'].replace(to_replace =('Commu','Communit','commu','COMMU', 'COMMUNITY') ,\n",
        "                                        value ='Community' , inplace=True)\n",
        "\n",
        "df['installer'].replace(to_replace = ('GOVERNMENT', 'GOVER', 'GOVERNME', 'GOVERM','GOVERN','Gover','Gove',\n",
        "                                      'Governme','Governmen' ) ,value ='Government' , inplace=True)\n",
        "\n",
        "df['installer'].replace(to_replace = 'Hesawa' ,value ='HESAWA' , inplace=True)\n",
        "\n",
        "df['installer'].replace(to_replace = ('Colonial Government') , value ='Colonial government' , inplace=True)\n",
        "df['installer'].replace(to_replace = ('Government of Misri') , value ='Misri Government' , inplace=True)\n",
        "df['installer'].replace(to_replace = ('Italy government') , value ='Italian government' , inplace=True)\n",
        "df['installer'].replace(to_replace = ('British colonial government') , value ='British government' , inplace=True)\n",
        "df['installer'].replace(to_replace = ('Concern /government') , value ='Concern/Government' , inplace=True)\n",
        "df['installer'].replace(to_replace = ('Village Government') , value ='Village government' , inplace=True)\n",
        "df['installer'].replace(to_replace = ('Government and Community') , value ='Government /Community' , inplace=True)\n",
        "df['installer'].replace(to_replace = ('Cetral government /RC') , value ='RC church/Central Gover' , inplace=True)\n",
        "df['installer'].replace(to_replace = ('Government /TCRS','Government/TCRS') , value ='TCRS /Government' , inplace=True)\n",
        "df['installer'].replace(to_replace = ('ADRA /Government') , value ='ADRA/Government' , inplace=True)"
      ],
      "execution_count": 978,
      "outputs": []
    },
    {
      "cell_type": "code",
      "metadata": {
        "colab": {
          "base_uri": "https://localhost:8080/"
        },
        "id": "GJLPHL02L97i",
        "outputId": "89d54aef-ed98-4bd6-88a9-001d3bbfdf99"
      },
      "source": [
        "df['installer'].value_counts().head(20)"
      ],
      "execution_count": 979,
      "outputs": [
        {
          "output_type": "execute_result",
          "data": {
            "text/plain": [
              "DWE                   17402\n",
              "0                      4432\n",
              "Government             2660\n",
              "Community              1674\n",
              "DANIDA                 1602\n",
              "HESAWA                 1379\n",
              "RWE                    1206\n",
              "District council       1179\n",
              "Central government     1114\n",
              "KKKT                    898\n",
              "TCRS                    707\n",
              "world vision            681\n",
              "CES                     610\n",
              "Fini Water              593\n",
              "RC Church               461\n",
              "LGA                     408\n",
              "villagers               408\n",
              "WEDECO                  397\n",
              "TASAF                   396\n",
              "Unicef                  332\n",
              "Name: installer, dtype: int64"
            ]
          },
          "metadata": {},
          "execution_count": 979
        }
      ]
    },
    {
      "cell_type": "code",
      "metadata": {
        "id": "TP2FCPzRL_6M"
      },
      "source": [
        "# lete create new dataframe for installer\n",
        "df_1 = df.loc[df['installer']== 'DWE']\n",
        "df_2 = df.loc[df['installer']== 'Unknown']              \n",
        "df_3 = df.loc[df['installer']== 'Government'] \n",
        "df_4 = df.loc[df['installer']== 'Community'] \n",
        "df_5 = df.loc[df['installer']== 'DANIDA'] \n",
        "df_6 = df.loc[df['installer']== 'RWE'] \n",
        "df_7 = df.loc[df['installer']== 'District council'] \n",
        "df_8 = df.loc[df['installer']== 'Central government']\n",
        "df_9 = df.loc[df['installer']== 'KKKT'] \n",
        "df_10 = df.loc[df['installer']== 'HESAWA'] \n",
        "df_11 = df.loc[df['installer']== 'TCRS'] \n",
        "df_12 = df.loc[df['installer']== 'world vision'] \n",
        "df_13 = df.loc[df['installer']== 'CES'] \n",
        "df_14 = df.loc[df['installer']== 'Fini Water'] \n",
        "df_15 = df.loc[df['installer']== 'RC Church'] \n",
        "df_16 = df.loc[df['installer']== 'villagers']\n",
        "df_17 = df.loc[df['installer']== 'LGA']\n",
        "\n",
        "df_installer = pd.concat([df_1,df_2,df_3,df_4,df_5,df_6,df_7,df_8,df_9,df_10,df_11,df_12,\n",
        "                          df_13,df_14,df_15,df_16,df_17], ignore_index=True)"
      ],
      "execution_count": 980,
      "outputs": []
    },
    {
      "cell_type": "code",
      "metadata": {
        "id": "KKv7PvQaMFBM"
      },
      "source": [
        "df['installer_cat'] = df['installer']"
      ],
      "execution_count": 981,
      "outputs": []
    },
    {
      "cell_type": "code",
      "metadata": {
        "id": "YNg0JSgRMKxj"
      },
      "source": [
        "# put Others for data occurence below 400\n",
        "c_ins = ['DWE','Unknown','Government','Community','DANIDA','RWE','District council', 'Central government',\n",
        "         'KKKT','HESAWA','TCRS', 'world vision', 'Fini Water', 'RC Church','villagers','LGA']\n",
        "\n",
        "\n",
        "df.loc[~df[\"installer_cat\"].isin(c_ins), \"installer_cat\"] = \"Others\"\n"
      ],
      "execution_count": 982,
      "outputs": []
    },
    {
      "cell_type": "code",
      "metadata": {
        "id": "XBxY3yYRMkc8"
      },
      "source": [
        "df['funder'].fillna(value='0',inplace=True)"
      ],
      "execution_count": 983,
      "outputs": []
    },
    {
      "cell_type": "code",
      "metadata": {
        "colab": {
          "base_uri": "https://localhost:8080/"
        },
        "id": "65E1f_5fMmYI",
        "outputId": "c6151fcb-3aad-4217-a489-d08fea51333c"
      },
      "source": [
        "df['funder'].value_counts().head(20)"
      ],
      "execution_count": 984,
      "outputs": [
        {
          "output_type": "execute_result",
          "data": {
            "text/plain": [
              "Government Of Tanzania    9084\n",
              "0                         4412\n",
              "Danida                    3114\n",
              "Hesawa                    2202\n",
              "Rwssp                     1374\n",
              "World Bank                1349\n",
              "Kkkt                      1287\n",
              "World Vision              1246\n",
              "Unicef                    1057\n",
              "Tasaf                      877\n",
              "District Council           843\n",
              "Dhv                        829\n",
              "Private Individual         826\n",
              "Dwsp                       811\n",
              "Norad                      765\n",
              "Germany Republi            610\n",
              "Tcrs                       602\n",
              "Ministry Of Water          590\n",
              "Water                      583\n",
              "Dwe                        484\n",
              "Name: funder, dtype: int64"
            ]
          },
          "metadata": {},
          "execution_count": 984
        }
      ]
    },
    {
      "cell_type": "code",
      "metadata": {
        "id": "gBhALCjPMoL6"
      },
      "source": [
        "# lets create new dataframe for funder\n",
        "df1 = df.loc[df['funder']== 'Government Of Tanzania']\n",
        "df2 = df.loc[df['funder']== 'Unknown']              \n",
        "df3 = df.loc[df['funder']== 'Danida'] \n",
        "df4 = df.loc[df['funder']== 'Hesawa'] \n",
        "df5 = df.loc[df['funder']== 'Rwssp'] \n",
        "df6 = df.loc[df['funder']== 'World Bank'] \n",
        "df7 = df.loc[df['funder']== 'Kkkt'] \n",
        "df8 = df.loc[df['funder']== 'World Vision']\n",
        "df9 = df.loc[df['funder']== 'Unicef'] \n",
        "df10 = df.loc[df['funder']== 'Tasaf'] \n",
        "df11 = df.loc[df['funder']== 'District Council'] \n",
        "df12 = df.loc[df['funder']== 'Dhv'] \n",
        "df13 = df.loc[df['funder']== 'Private Individual'] \n",
        "df14 = df.loc[df['funder']== 'Dwsp'] \n",
        "df15 = df.loc[df['funder']== 'Norad'] \n",
        "df16 = df.loc[df['funder']== 'Germany Republi']\n",
        "df17 = df.loc[df['funder']== 'Tcrs']\n",
        "df18 = df.loc[df['funder']== 'Ministry Of Water']\n",
        "df19 = df.loc[df['funder']== 'Water']\n",
        "df20 = df.loc[df['funder']== 'Dwe']\n",
        "\n",
        "df_funder = pd.concat([df1,df2,df3,df4,df5,df6,df7,df8,df9,df10,df11,df12,\n",
        "                          df13,df14,df15,df16,df17,df18,df19,df20], ignore_index=True)"
      ],
      "execution_count": 985,
      "outputs": []
    },
    {
      "cell_type": "code",
      "metadata": {
        "id": "sY9JZn7NNGZc"
      },
      "source": [
        "df['funder_cat'] = df['funder']\n",
        "\n",
        "c_fund = ['Danida','Unknown','Government Of Tanzania','Hesawa','Rwssp','World Bank','Kkkt', 'World Vision',\n",
        "         'Unicef','Tasaf','District Council', 'Dhv', 'Private Individual', 'Dwsp','Norad','Germany Republi',\n",
        "         'Tcrs','Ministry Of Water','Water','Dwe']\n",
        "    \n",
        "\n",
        "df.loc[~df[\"funder_cat\"].isin(c_fund), \"funder_cat\"] = \"Others\""
      ],
      "execution_count": 986,
      "outputs": []
    },
    {
      "cell_type": "code",
      "metadata": {
        "colab": {
          "base_uri": "https://localhost:8080/"
        },
        "id": "TDpk-CulciwB",
        "outputId": "58f4bdb1-ceb3-4780-a8fd-38d434e643dc"
      },
      "source": [
        "df.loc[df['longitude']!=0]['longitude'].describe()"
      ],
      "execution_count": 987,
      "outputs": [
        {
          "output_type": "execute_result",
          "data": {
            "text/plain": [
              "count    57588.000000\n",
              "mean        35.149669\n",
              "std          2.607428\n",
              "min         29.607122\n",
              "25%         33.285100\n",
              "50%         35.005943\n",
              "75%         37.233712\n",
              "max         40.345193\n",
              "Name: longitude, dtype: float64"
            ]
          },
          "metadata": {},
          "execution_count": 987
        }
      ]
    },
    {
      "cell_type": "code",
      "metadata": {
        "id": "CyfScFbFNN8f"
      },
      "source": [
        "# replace with mean\n",
        "df['longitude'].replace(to_replace = 0 , value =35.15, inplace=True)"
      ],
      "execution_count": 988,
      "outputs": []
    },
    {
      "cell_type": "code",
      "metadata": {
        "colab": {
          "base_uri": "https://localhost:8080/"
        },
        "id": "gnk-dE9vNYLI",
        "outputId": "a08b4e92-4832-4946-a360-374c53b2358d"
      },
      "source": [
        "df['public_meeting'].value_counts()"
      ],
      "execution_count": 989,
      "outputs": [
        {
          "output_type": "execute_result",
          "data": {
            "text/plain": [
              "True     51011\n",
              "False     5055\n",
              "Name: public_meeting, dtype: int64"
            ]
          },
          "metadata": {},
          "execution_count": 989
        }
      ]
    },
    {
      "cell_type": "code",
      "metadata": {
        "colab": {
          "base_uri": "https://localhost:8080/"
        },
        "id": "S4ixgNT7d2K1",
        "outputId": "65e05b92-e008-4b22-87b7-b96e10b3e677"
      },
      "source": [
        "df['permit'].value_counts()"
      ],
      "execution_count": 990,
      "outputs": [
        {
          "output_type": "execute_result",
          "data": {
            "text/plain": [
              "True     38852\n",
              "False    17492\n",
              "Name: permit, dtype: int64"
            ]
          },
          "metadata": {},
          "execution_count": 990
        }
      ]
    },
    {
      "cell_type": "code",
      "metadata": {
        "id": "2QZoUp1wdnZe"
      },
      "source": [
        "# change null values to true\n",
        "df['public_meeting'].fillna(value=True,inplace=True)\n",
        "df['permit'].fillna(value=True, inplace=True)"
      ],
      "execution_count": 991,
      "outputs": []
    },
    {
      "cell_type": "code",
      "metadata": {
        "id": "drK2cTzndrg_"
      },
      "source": [
        "# convert the target to tenary value\n",
        "target_status_group = {'functional':0, \n",
        "                   'non functional': 2, \n",
        "                   'functional needs repair': 1} \n",
        "df['status_group'] = df['status_group'].replace(target_status_group)"
      ],
      "execution_count": 992,
      "outputs": []
    },
    {
      "cell_type": "code",
      "metadata": {
        "colab": {
          "base_uri": "https://localhost:8080/"
        },
        "id": "-_jl7nXTeWb9",
        "outputId": "523c691b-ba01-4922-bd29-4ae3fa34e4f5"
      },
      "source": [
        "df['status_group'].value_counts()"
      ],
      "execution_count": 993,
      "outputs": [
        {
          "output_type": "execute_result",
          "data": {
            "text/plain": [
              "0    32259\n",
              "2    22824\n",
              "1     4317\n",
              "Name: status_group, dtype: int64"
            ]
          },
          "metadata": {},
          "execution_count": 993
        }
      ]
    },
    {
      "cell_type": "code",
      "metadata": {
        "id": "LczMQflkeaUK"
      },
      "source": [
        "df.to_csv('/content/drive/MyDrive/Pump it up/preprocessed_data.csv', index=False)"
      ],
      "execution_count": 604,
      "outputs": []
    },
    {
      "cell_type": "code",
      "metadata": {
        "id": "1EE9TAdEdQKJ"
      },
      "source": [
        ""
      ],
      "execution_count": 237,
      "outputs": []
    },
    {
      "cell_type": "markdown",
      "metadata": {
        "id": "WXnLCqX9eSuy"
      },
      "source": [
        "# **Model**"
      ]
    },
    {
      "cell_type": "code",
      "metadata": {
        "id": "IFOp8yWxfSza"
      },
      "source": [
        "!pip install --upgrade category_encoders"
      ],
      "execution_count": 994,
      "outputs": []
    },
    {
      "cell_type": "code",
      "metadata": {
        "id": "Zn97h6rfeXW7"
      },
      "source": [
        "import matplotlib.pyplot as plt\n",
        "import seaborn as sns; sns.set()\n",
        "%matplotlib inline\n",
        "import pandas as pd\n",
        "import numpy as np\n",
        "from imblearn.over_sampling import SMOTE\n",
        "from sklearn.tree import DecisionTreeClassifier\n",
        "from sklearn.ensemble import RandomForestClassifier, ExtraTreesClassifier\n",
        "from sklearn.linear_model import LogisticRegression\n",
        "from sklearn.preprocessing import KBinsDiscretizer, FunctionTransformer,RobustScaler\n",
        "from sklearn.model_selection import cross_val_score\n",
        "from category_encoders import OneHotEncoder\n",
        "from sklearn.pipeline import make_pipeline, Pipeline\n",
        "from xgboost import plot_importance\n",
        "from sklearn.model_selection import GridSearchCV, train_test_split\n",
        "from sklearn.metrics import roc_auc_score\n",
        "\n",
        "from sklearn.datasets import make_classification\n",
        "from sklearn.model_selection import train_test_split, GridSearchCV\n",
        "from sklearn import preprocessing\n",
        "import warnings\n",
        "warnings.filterwarnings(\"ignore\")\n",
        "\n",
        "import category_encoders as ce\n",
        "from category_encoders import WOEEncoder\n",
        "from sklearn.metrics import accuracy_score, balanced_accuracy_score\n",
        "from sklearn.metrics import confusion_matrix\n",
        "from sklearn.metrics import classification_report\n",
        "\n",
        "from sklearn.compose import ColumnTransformer\n",
        "from category_encoders import TargetEncoder, LeaveOneOutEncoder, JamesSteinEncoder, MEstimateEncoder\n",
        "from sklearn.compose import ColumnTransformer\n",
        "from mlxtend.evaluate import confusion_matrix\n",
        "from mlxtend.plotting import plot_confusion_matrix\n",
        "from mlxtend.plotting import plot_decision_regions\n",
        "from sklearn.preprocessing import MinMaxScaler\n",
        "from mlxtend.evaluate import feature_importance_permutation\n",
        "from sklearn.experimental import enable_hist_gradient_boosting \n",
        "from sklearn.ensemble import AdaBoostClassifier, GradientBoostingClassifier, HistGradientBoostingClassifier\n",
        "\n",
        "from sklearn.svm import SVC\n",
        "import gc; gc.enable()\n",
        "\n",
        "import xgboost as xgb\n",
        "from xgboost import XGBClassifier\n",
        "\n",
        "from sklearn.neighbors import KNeighborsClassifier\n",
        "import lightgbm as lgb\n",
        "from lightgbm import LGBMClassifier"
      ],
      "execution_count": 995,
      "outputs": []
    },
    {
      "cell_type": "code",
      "metadata": {
        "id": "ZBt2Smt1eeDO"
      },
      "source": [
        "df = pd.read_csv('/content/drive/MyDrive/Pump it up/preprocessed_data.csv')"
      ],
      "execution_count": 1031,
      "outputs": []
    },
    {
      "cell_type": "code",
      "metadata": {
        "id": "aftOvpbkfpDs"
      },
      "source": [
        "# drop categorical data column\n",
        "df.drop(columns=['funder','installer','construction_year'],inplace=True )"
      ],
      "execution_count": 1033,
      "outputs": []
    },
    {
      "cell_type": "code",
      "metadata": {
        "id": "ZZHwRaZcf09H"
      },
      "source": [
        "df1 = df.copy()"
      ],
      "execution_count": 1034,
      "outputs": []
    },
    {
      "cell_type": "code",
      "metadata": {
        "id": "t4Dm_ifMf4Gm"
      },
      "source": [
        "# drop columns\n",
        "df1.drop(columns=['lga','ward'],inplace=True )"
      ],
      "execution_count": 1035,
      "outputs": []
    },
    {
      "cell_type": "code",
      "metadata": {
        "id": "rur-jSAKf6cL"
      },
      "source": [
        "#encode true, false with 0,1\n",
        "df1['permit'] = df1['permit'].astype(bool).astype(int)\n",
        "df1['public_meeting'] = df1['public_meeting'].astype(bool).astype(int)"
      ],
      "execution_count": null,
      "outputs": []
    },
    {
      "cell_type": "code",
      "metadata": {
        "id": "hNiTkRu8gGYt"
      },
      "source": [
        "# separate column as categorical and numerical\n",
        "cat_col = ['basin','region','extraction_type_group','management','payment','water_quality','quantity','source','waterpoint_type','decade','installer_cat','funder_cat']\n",
        "num_col = ['gps_height','longitude','latitude','district_code','population','public_meeting','permit']\n"
      ],
      "execution_count": 1038,
      "outputs": []
    },
    {
      "cell_type": "code",
      "metadata": {
        "id": "-bJ7F3Zu8Zmf"
      },
      "source": [
        "# seperate columns to X,y \n",
        "used_cols = [c for c in df1.columns.tolist() if c not in ['status_group']]\n",
        "X=df1[used_cols]\n",
        "y=df1[target]"
      ],
      "execution_count": 1039,
      "outputs": []
    },
    {
      "cell_type": "code",
      "metadata": {
        "id": "MXKom4v58ebk"
      },
      "source": [
        "# split the dataset into 80% train and 20% test\n",
        "X_train, X_test, y_train, y_test = train_test_split(X, y, test_size=0.2, random_state=42)"
      ],
      "execution_count": 1041,
      "outputs": []
    },
    {
      "cell_type": "code",
      "metadata": {
        "colab": {
          "base_uri": "https://localhost:8080/"
        },
        "id": "IiX4EhXOhMeu",
        "outputId": "776fdb53-55b2-4f32-9dc5-a49161e84b3f"
      },
      "source": [
        "# apply scaling and encoding\n",
        "scaler=RobustScaler()\n",
        "encoder = ce.TargetEncoder(cols=cat_col)\n",
        "\n",
        "num_transformer = make_pipeline(scaler)\n",
        "cat_transformer = make_pipeline(encoder)\n",
        "\n",
        "preprocessor = ColumnTransformer(\n",
        "      transformers=[('num', num_transformer, num_col),\n",
        "                    ('cat', cat_transformer, cat_col)])\n",
        "\n",
        "rf = RandomForestClassifier(n_estimators=100, random_state=42, n_jobs=-1,\n",
        "                            criterion= 'entropy',max_features= 'sqrt',\n",
        "                             min_samples_split= 10,class_weight='balanced')\n",
        "\n",
        "# create the pipeline\n",
        "pipe = make_pipeline(preprocessor,rf)\n",
        "\n",
        "# fit the model\n",
        "pipe.fit(X_train,y_train)\n",
        "# predictions\n",
        "y_pred = pipe.predict(X_train)\n",
        "y_pred_test = pipe.predict(X_test)\n",
        "\n",
        "\n",
        "print(f\"TRAINING accuracy: {accuracy_score(y_train, y_pred)}\")\n",
        "print(f\"TESTING accuracy: {accuracy_score(y_test, y_pred_test)}\")\n"
      ],
      "execution_count": 1042,
      "outputs": [
        {
          "output_type": "stream",
          "name": "stdout",
          "text": [
            "TRAINING accuracy: 0.9196548821548821\n",
            "TESTING accuracy: 0.7977272727272727\n"
          ]
        }
      ]
    },
    {
      "cell_type": "markdown",
      "metadata": {
        "id": "Uc0Mlu9wjzSG"
      },
      "source": [
        "# **Try different type of classifiers**"
      ]
    },
    {
      "cell_type": "code",
      "metadata": {
        "colab": {
          "base_uri": "https://localhost:8080/"
        },
        "id": "gQ_r8_EWjym8",
        "outputId": "f71ec591-636d-415d-bf4d-84af36ec72e8"
      },
      "source": [
        "#LGBM\n",
        "lgbm = LGBMClassifier(booster = 'gbtree', nrounds = 'min.error.idx', maximize = False,eta = .1,max_depth = 10, \n",
        "                      colsample_bytree = .4,learning_rate = 0.1,max_delta_step=1)\n",
        "\n",
        "\n",
        "pipe = make_pipeline(preprocessor,lgbm)\n",
        "pipe.fit(X_train, y_train)\n",
        "\n",
        "# predictions\n",
        "y_pred = pipe.predict(X_train)\n",
        "y_pred_test = pipe.predict(X_test)\n",
        "\n",
        "print(f\"TRAINING accuracy: {accuracy_score(y_train, y_pred)}\")\n",
        "print(f\"TESTING accuracy: {accuracy_score(y_test, y_pred_test)}\")"
      ],
      "execution_count": 1043,
      "outputs": [
        {
          "output_type": "stream",
          "name": "stdout",
          "text": [
            "TRAINING accuracy: 0.7881523569023569\n",
            "TESTING accuracy: 0.7776094276094276\n"
          ]
        }
      ]
    },
    {
      "cell_type": "code",
      "metadata": {
        "colab": {
          "base_uri": "https://localhost:8080/"
        },
        "id": "T70tYxPVhz9X",
        "outputId": "0fa706b0-66be-41da-c429-ab51a3f4406a"
      },
      "source": [
        "#xgb\n",
        "xgb = XGBClassifier(objective = 'multi:softmax', booster = 'gbtree', nrounds = 'min.error.idx',\n",
        "                      num_class = 3, maximize = False, eval_metric = 'merror', eta = .1,\n",
        "                      max_depth = 10, colsample_bytree = .4, n_jobs = -1,learning_rate = 0.05)\n",
        "\n",
        "pipe = make_pipeline(preprocessor,xgb)\n",
        "pipe.fit(X_train, y_train)\n",
        "\n",
        "\n",
        "# predictions\n",
        "y_pred = pipe.predict(X_train)\n",
        "y_pred_test = pipe.predict(X_test)\n",
        "\n",
        "print(f\"TRAINING accuracy: {accuracy_score(y_train, y_pred)}\")\n",
        "print(f\"TESTING accuracy: {accuracy_score(y_test, y_pred_test)}\")"
      ],
      "execution_count": 1044,
      "outputs": [
        {
          "output_type": "stream",
          "name": "stdout",
          "text": [
            "TRAINING accuracy: 0.8436237373737374\n",
            "TESTING accuracy: 0.8000841750841751\n"
          ]
        }
      ]
    },
    {
      "cell_type": "code",
      "metadata": {
        "id": "ly0SzzZKTr4P"
      },
      "source": [
        "df_new=df1.copy()"
      ],
      "execution_count": 1057,
      "outputs": []
    },
    {
      "cell_type": "code",
      "metadata": {
        "id": "pP_gHJIRlLAQ"
      },
      "source": [
        "# encoding categorical columns\n",
        "encoder = TargetEncoder()\n",
        "for c in cat_col:\n",
        "    df_new[str(c) + '_encoded'] = encoder.fit_transform(df_new[c].values, df_new['status_group'])\n",
        "    df_new.drop(columns=c, inplace=True)"
      ],
      "execution_count": 1058,
      "outputs": []
    },
    {
      "cell_type": "code",
      "metadata": {
        "id": "pjWZjOmZ-JNl"
      },
      "source": [
        "scaler = preprocessing.RobustScaler()\n",
        "def scaleColumns(df, num_col):\n",
        "    for col in num_col:\n",
        "        df[col] = pd.DataFrame(scaler.fit_transform(pd.DataFrame(df_new[col])),columns=[col])\n",
        "    return df\n",
        "\n",
        "scaled_df = scaleColumns(df_new,[num_col])"
      ],
      "execution_count": 1059,
      "outputs": []
    },
    {
      "cell_type": "code",
      "metadata": {
        "id": "5Svkzm5AlZxE"
      },
      "source": [
        "# get X,y\n",
        "used_cols = [c for c in scaled_df.columns.tolist() if c not in ['status_group']]\n",
        "X=scaled_df[used_cols]\n",
        "y=scaled_df[target]"
      ],
      "execution_count": 1060,
      "outputs": []
    },
    {
      "cell_type": "code",
      "metadata": {
        "id": "SZ_IiHVBlvvM"
      },
      "source": [
        "# over sampleing\n",
        "smt = SMOTE(sampling_strategy = 'auto', n_jobs = -1)\n",
        "X_sampled, y_sample = smt.fit_sample(X, y)\n",
        "y_sampled = pd.Series(y_sample)"
      ],
      "execution_count": 1061,
      "outputs": []
    },
    {
      "cell_type": "code",
      "metadata": {
        "id": "LCuRY2fNmWMj"
      },
      "source": [
        "#splitting train-test balanced target data\n",
        "X_train, X_test, y_train, y_test = train_test_split(X_sampled, y_sampled, test_size=0.2, random_state=42)"
      ],
      "execution_count": 1062,
      "outputs": []
    },
    {
      "cell_type": "code",
      "metadata": {
        "colab": {
          "base_uri": "https://localhost:8080/"
        },
        "id": "Q9fTxBmg-zAg",
        "outputId": "534a3bf0-594d-454b-c006-d228de91d02d"
      },
      "source": [
        "# setting classifier\n",
        "xgb_smote = XGBClassifier(objective = 'multi:softmax', booster = 'gbtree', nrounds = 'min.error.idx',\n",
        "                      num_class = 3, maximize = False, eval_metric = 'merror', eta = .1,\n",
        "                      max_depth = 16, colsample_bytree = .4, n_jobs = -1,learning_rate = 0.1,\n",
        "                      early_stopping_rounds=10)\n",
        "\n",
        "\n",
        "xgb_smote.fit(X_train, y_train)\n",
        "\n",
        "\n",
        "# predictions of training set\n",
        "y_pred = xgb_smote.predict(X_train)\n",
        "y_pred_test = xgb_smote.predict(X_test)\n",
        "\n",
        "print(f\"TRAINING accuracy: {accuracy_score(y_train, y_pred)}\")\n",
        "print(f\"TESTING accuracy: {accuracy_score(y_test, y_pred_test)}\")"
      ],
      "execution_count": 1063,
      "outputs": [
        {
          "output_type": "stream",
          "name": "stdout",
          "text": [
            "TRAINING accuracy: 0.9702793815631418\n",
            "TESTING accuracy: 0.8621616036371151\n"
          ]
        }
      ]
    },
    {
      "cell_type": "markdown",
      "metadata": {
        "id": "IKaiiLSXmolW"
      },
      "source": [
        "# **feauture selection**"
      ]
    },
    {
      "cell_type": "code",
      "metadata": {
        "id": "6XV-RDEwmeYL"
      },
      "source": [
        "# we have seen that xgb smote classifier gives the best acuracy so far lets get the feauture importance for that"
      ],
      "execution_count": null,
      "outputs": []
    },
    {
      "cell_type": "code",
      "metadata": {
        "colab": {
          "base_uri": "https://localhost:8080/",
          "height": 301
        },
        "id": "Fe7D7bXAik8Q",
        "outputId": "c58eedd9-5ab5-49ce-e878-777600456bcc"
      },
      "source": [
        "plot_importance(xgb_smote)\n",
        "plt.show()"
      ],
      "execution_count": 1074,
      "outputs": [
        {
          "output_type": "display_data",
          "data": {
            "image/png": "[encoded data removed]",
            "text/plain": [
              "<Figure size 432x288 with 1 Axes>"
            ]
          },
          "metadata": {
            "needs_background": "light"
          }
        }
      ]
    },
    {
      "cell_type": "code",
      "metadata": {
        "id": "FUOSe7wVm-Zf"
      },
      "source": [
        "# we can drop two the least importance feauture\n",
        "discard = ['public_meeting', 'permit']\n",
        "used_cols_new = [c for c in scaled_df.columns.tolist() if c not in [target] + discard]\n",
        "X_new=scaled_df[used_cols_new]\n",
        "y_new=scaled_df['status_group']"
      ],
      "execution_count": 1093,
      "outputs": []
    },
    {
      "cell_type": "code",
      "metadata": {
        "id": "bbFk0dTpjmSq"
      },
      "source": [
        "# over sampleing\n",
        "smt = SMOTE(sampling_strategy = 'auto', n_jobs = -1)\n",
        "X_sampled_new, y_sample_new = smt.fit_sample(X_new, y_new)\n",
        "y_sampled_new = pd.Series(y_sample)"
      ],
      "execution_count": 1095,
      "outputs": []
    },
    {
      "cell_type": "code",
      "metadata": {
        "id": "vFU1aRJIjmSr"
      },
      "source": [
        "#splitting train-test balanced target data\n",
        "X_train, X_test, y_train, y_test = train_test_split(X_sampled_new, y_sampled_new, test_size=0.2, random_state=42)"
      ],
      "execution_count": 1096,
      "outputs": []
    },
    {
      "cell_type": "code",
      "metadata": {
        "colab": {
          "base_uri": "https://localhost:8080/"
        },
        "id": "5DcbcHEgjmSr",
        "outputId": "5994d670-fbbf-4ff7-baa5-f1eb12a502f6"
      },
      "source": [
        "# final model\n",
        "xgb_smote = XGBClassifier(objective = 'multi:softmax', booster = 'gbtree', nrounds = 'min.error.idx',\n",
        "                      num_class = 3, maximize = False, eval_metric = 'merror', eta = .1,\n",
        "                      max_depth = 16, colsample_bytree = .4, n_jobs = -1,learning_rate = 0.1,\n",
        "                      early_stopping_rounds=10)\n",
        "\n",
        "\n",
        "xgb_smote.fit(X_train, y_train)\n",
        "\n",
        "\n",
        "# predictions of training set\n",
        "y_pred = xgb_smote.predict(X_train)\n",
        "y_pred_test = xgb_smote.predict(X_test)\n",
        "\n",
        "print(f\"TRAINING accuracy: {accuracy_score(y_train, y_pred)}\")\n",
        "print(f\"TESTING accuracy: {accuracy_score(y_test, y_pred_test)}\")"
      ],
      "execution_count": 1097,
      "outputs": [
        {
          "output_type": "stream",
          "name": "stdout",
          "text": [
            "TRAINING accuracy: 0.9687552472843285\n",
            "TESTING accuracy: 0.8612833230006199\n"
          ]
        }
      ]
    },
    {
      "cell_type": "code",
      "metadata": {
        "id": "PCOPjcsmvG1_"
      },
      "source": [
        "with open('final_model.pkl','wb') as f:\n",
        "    pickle.dump(xgb_smote,f)"
      ],
      "execution_count": 1131,
      "outputs": []
    },
    {
      "cell_type": "markdown",
      "metadata": {
        "id": "hygIEQ2Gqtfw"
      },
      "source": [
        "# **Prediction**"
      ]
    },
    {
      "cell_type": "code",
      "metadata": {
        "id": "LCy2--qemBlI"
      },
      "source": [
        "# do the same preprocessing method on the test set"
      ],
      "execution_count": 1098,
      "outputs": []
    },
    {
      "cell_type": "code",
      "metadata": {
        "id": "RkgrQWSdqw_F"
      },
      "source": [
        "df_test = pd.read_csv('/content/drive/MyDrive/Pump it up/test.csv')"
      ],
      "execution_count": 1099,
      "outputs": []
    },
    {
      "cell_type": "code",
      "metadata": {
        "id": "hrJo-1GCqzna"
      },
      "source": [
        "df_test.drop(columns=['management_group','scheme_management','quantity_group','source_class','source_type','quality_group','payment_type','extraction_type_class','extraction_type','waterpoint_type_group','wpt_name','scheme_name','id','region_code','recorded_by','amount_tsh','date_recorded','num_private','subvillage'],inplace=True )"
      ],
      "execution_count": 1100,
      "outputs": []
    },
    {
      "cell_type": "code",
      "metadata": {
        "id": "bjoLgq3-rtEP"
      },
      "source": [
        "df_test['decade'] = df_test['construction_year']"
      ],
      "execution_count": 1101,
      "outputs": []
    },
    {
      "cell_type": "code",
      "metadata": {
        "id": "fXSD225Ur-BD"
      },
      "source": [
        "df_test['decade'].replace(to_replace = range(1960,1970),\n",
        "                        value ='60s' , inplace=True)\n",
        "df_test['decade'].replace(to_replace = range(1970,1980),\n",
        "                        value ='70s' , inplace=True)\n",
        "df_test['decade'].replace(to_replace = range(1980,1990),\n",
        "                        value ='80s' , inplace=True)\n",
        "df_test['decade'].replace(to_replace = range(1990,2000),\n",
        "                        value ='90s' , inplace=True)\n",
        "df_test['decade'].replace(to_replace = range(2000,2010),\n",
        "                        value ='00s' , inplace=True)\n",
        "df_test['decade'].replace(to_replace = range(2010,2020),\n",
        "                        value ='10s' , inplace=True)"
      ],
      "execution_count": 1102,
      "outputs": []
    },
    {
      "cell_type": "code",
      "metadata": {
        "id": "Idb5gKVcr-71"
      },
      "source": [
        "df_test['construction_year'].replace(to_replace = 0, value = 2000, inplace=True)\n",
        "df_test['installer'].fillna(value='0',inplace=True)"
      ],
      "execution_count": 1103,
      "outputs": []
    },
    {
      "cell_type": "code",
      "metadata": {
        "id": "ehdGKNGlr-wj"
      },
      "source": [
        "# same category has different names so we'll convert them\n",
        "df_test['installer'].replace(to_replace = ('District Water Department', 'District water depar','Distric Water Department'),\n",
        "                        value ='District water department' , inplace=True)\n",
        "\n",
        "df_test['installer'].replace(to_replace = ('FinW','Fini water','FINI WATER'), value ='Fini Water' , inplace=True)\n",
        "df_test['installer'].replace(to_replace = 'JAICA', value ='Jaica' , inplace=True)\n",
        "\n",
        "df_test['installer'].replace(to_replace = ('COUN', 'District COUNCIL', 'DISTRICT COUNCIL','District Counci', \n",
        "                                      'District Council','Council','Counc','District  Council','Distri'),\n",
        "                                    value ='District council' , inplace=True)\n",
        "\n",
        "df_test['installer'].replace(to_replace = ('RC CHURCH', 'RC Churc', 'RC','RC Ch','RC C', 'RC CH','RC church', \n",
        "                                      'RC CATHORIC',) , value ='RC Church' , inplace=True)\n",
        "\n",
        "df_test['installer'].replace(to_replace = ('Central Government','Tanzania Government',\n",
        "                                       'central government','Cental Government', 'Cebtral Government', \n",
        "                                      'Tanzanian Government','Tanzania government', 'Centra Government' ,\n",
        "                                      'CENTRAL GOVERNMENT', 'TANZANIAN GOVERNMENT','Central govt', 'Centr', \n",
        "                                      'Centra govt') , value ='Central government' , inplace=True)\n",
        "\n",
        "df_test['installer'].replace(to_replace = ('World vision', 'World Division','World Vision'),\n",
        "                                        value ='world vision' , inplace=True)\n",
        "\n",
        "df_test['installer'].replace(to_replace = ('Unisef','UNICEF'),value ='Unicef' , inplace=True)\n",
        "df_test['installer'].replace(to_replace = 'DANID', value ='DANIDA' , inplace=True)\n",
        "\n",
        "df_test['installer'].replace(to_replace = ('villigers', 'villager', 'Villagers', 'Villa', 'Village', 'Villi', \n",
        "                                      'Village Council','Village Counil', 'Villages', 'Vill', 'Village community', \n",
        "                                      'Villaers', 'Village Community', 'Villag','Villege Council', 'Village council',\n",
        "                                      'Village  Council','Villagerd', 'Villager', 'Village Technician',\n",
        "                                      'Village Office','Village community members'),\n",
        "                                        value ='villagers' , inplace=True)\n",
        "\n",
        "df_test['installer'].replace(to_replace =('Commu','Communit','commu','COMMU', 'COMMUNITY') ,\n",
        "                                        value ='Community' , inplace=True)\n",
        "\n",
        "df_test['installer'].replace(to_replace = ('GOVERNMENT', 'GOVER', 'GOVERNME', 'GOVERM','GOVERN','Gover','Gove',\n",
        "                                      'Governme','Governmen' ) ,value ='Government' , inplace=True)\n",
        "\n",
        "df_test['installer'].replace(to_replace = 'Hesawa' ,value ='HESAWA' , inplace=True)\n",
        "\n",
        "df_test['installer'].replace(to_replace = ('Colonial Government') , value ='Colonial government' , inplace=True)\n",
        "df_test['installer'].replace(to_replace = ('Government of Misri') , value ='Misri Government' , inplace=True)\n",
        "df_test['installer'].replace(to_replace = ('Italy government') , value ='Italian government' , inplace=True)\n",
        "df_test['installer'].replace(to_replace = ('British colonial government') , value ='British government' , inplace=True)\n",
        "df_test['installer'].replace(to_replace = ('Concern /government') , value ='Concern/Government' , inplace=True)\n",
        "df_test['installer'].replace(to_replace = ('Village Government') , value ='Village government' , inplace=True)\n",
        "df_test['installer'].replace(to_replace = ('Government and Community') , value ='Government /Community' , inplace=True)\n",
        "df_test['installer'].replace(to_replace = ('Cetral government /RC') , value ='RC church/Central Gover' , inplace=True)\n",
        "df_test['installer'].replace(to_replace = ('Government /TCRS','Government/TCRS') , value ='TCRS /Government' , inplace=True)\n",
        "df_test['installer'].replace(to_replace = ('ADRA /Government') , value ='ADRA/Government' , inplace=True)"
      ],
      "execution_count": 1104,
      "outputs": []
    },
    {
      "cell_type": "code",
      "metadata": {
        "id": "YlZSeOobsYfP"
      },
      "source": [
        "# lete create new dataframe for installer\n",
        "\n",
        "df_1 = df_test.loc[df_test['installer']== 'DWE']\n",
        "df_2 = df_test.loc[df_test['installer']== 'Unknown']              \n",
        "df_3 = df_test.loc[df_test['installer']== 'Government'] \n",
        "df_4 = df_test.loc[df_test['installer']== 'Community'] \n",
        "df_5 = df_test.loc[df_test['installer']== 'DANIDA'] \n",
        "df_6 = df_test.loc[df_test['installer']== 'RWE'] \n",
        "df_7 = df_test.loc[df_test['installer']== 'District council'] \n",
        "df_8 = df_test.loc[df_test['installer']== 'Central government']\n",
        "df_9 = df_test.loc[df_test['installer']== 'KKKT'] \n",
        "df_10 = df_test.loc[df_test['installer']== 'HESAWA'] \n",
        "df_11 = df_test.loc[df_test['installer']== 'TCRS'] \n",
        "df_12 = df_test.loc[df_test['installer']== 'world vision'] \n",
        "df_13 = df_test.loc[df_test['installer']== 'CES'] \n",
        "df_14 = df_test.loc[df_test['installer']== 'Fini Water'] \n",
        "df_15 = df_test.loc[df_test['installer']== 'RC Church'] \n",
        "df_16 = df_test.loc[df_test['installer']== 'villagers']\n",
        "df_17 = df_test.loc[df_test['installer']== 'LGA']\n",
        "\n",
        "df_test_installer = pd.concat([df_1,df_2,df_3,df_4,df_5,df_6,df_7,df_8,df_9,df_10,df_11,df_12,\n",
        "                          df_13,df_14,df_15,df_16,df_17], ignore_index=True)"
      ],
      "execution_count": 1105,
      "outputs": []
    },
    {
      "cell_type": "code",
      "metadata": {
        "id": "hajm3CLqsczB"
      },
      "source": [
        "df_test['installer_cat'] = df_test['installer']"
      ],
      "execution_count": 1106,
      "outputs": []
    },
    {
      "cell_type": "code",
      "metadata": {
        "id": "vUNPq7yvspBg"
      },
      "source": [
        "# converting the values which has less than 400 value counts to others\n",
        "c_ins = ['DWE','Unknown','Government','Community','DANIDA','RWE','District council', 'Central government',\n",
        "         'KKKT','HESAWA','TCRS', 'world vision', 'Fini Water', 'RC Church','villagers','LGA']\n",
        "\n",
        "\n",
        "df_test.loc[~df_test[\"installer_cat\"].isin(c_ins), \"installer_cat\"] = \"Others\"\n"
      ],
      "execution_count": 1107,
      "outputs": []
    },
    {
      "cell_type": "code",
      "metadata": {
        "id": "7USc3YEEspBi"
      },
      "source": [
        "df_test['funder'].fillna(value='0',inplace=True)"
      ],
      "execution_count": 1108,
      "outputs": []
    },
    {
      "cell_type": "code",
      "metadata": {
        "id": "hbfhnKTVspBi"
      },
      "source": [
        "# lets create new dataframe for funder\n",
        "df1 = df_test.loc[df_test['funder']== 'Government Of Tanzania']\n",
        "df2 = df_test.loc[df_test['funder']== 'Unknown']              \n",
        "df3 = df_test.loc[df_test['funder']== 'Danida'] \n",
        "df4 = df_test.loc[df_test['funder']== 'Hesawa'] \n",
        "df5 = df_test.loc[df_test['funder']== 'Rwssp'] \n",
        "df6 = df_test.loc[df_test['funder']== 'World Bank'] \n",
        "df7 = df_test.loc[df_test['funder']== 'Kkkt'] \n",
        "df8 = df_test.loc[df_test['funder']== 'World Vision']\n",
        "df9 = df_test.loc[df_test['funder']== 'Unicef'] \n",
        "df10 = df_test.loc[df_test['funder']== 'Tasaf'] \n",
        "df11 = df_test.loc[df_test['funder']== 'District Council'] \n",
        "df12 = df_test.loc[df_test['funder']== 'Dhv'] \n",
        "df13 = df_test.loc[df_test['funder']== 'Private Individual'] \n",
        "df14 = df_test.loc[df_test['funder']== 'Dwsp'] \n",
        "df15 = df_test.loc[df_test['funder']== 'Norad'] \n",
        "df16 = df_test.loc[df_test['funder']== 'Germany Republi']\n",
        "df17 = df_test.loc[df_test['funder']== 'Tcrs']\n",
        "df18 = df_test.loc[df_test['funder']== 'Ministry Of Water']\n",
        "df19 = df_test.loc[df_test['funder']== 'Water']\n",
        "df20 = df_test.loc[df_test['funder']== 'Dwe']\n",
        "\n",
        "df_test_funder = pd.concat([df1,df2,df3,df4,df5,df6,df7,df8,df9,df10,df11,df12,\n",
        "                          df13,df14,df15,df16,df17,df18,df19,df20], ignore_index=True)"
      ],
      "execution_count": 1109,
      "outputs": []
    },
    {
      "cell_type": "code",
      "metadata": {
        "id": "87vSaMxVspBj"
      },
      "source": [
        "df_test['funder_cat'] = df_test['funder']\n",
        "\n",
        "c_fund = ['Danida','Unknown','Government Of Tanzania','Hesawa','Rwssp','World Bank','Kkkt', 'World Vision',\n",
        "         'Unicef','Tasaf','District Council', 'Dhv', 'Private Individual', 'Dwsp','Norad','Germany Republi',\n",
        "         'Tcrs','Ministry Of Water','Water','Dwe']\n",
        "    \n",
        "\n",
        "df_test.loc[~df_test[\"funder_cat\"].isin(c_fund), \"funder_cat\"] = \"Others\""
      ],
      "execution_count": 1110,
      "outputs": []
    },
    {
      "cell_type": "code",
      "metadata": {
        "id": "j4-PvG5ispBk"
      },
      "source": [
        "# replace with mean\n",
        "df_test['longitude'].replace(to_replace = 0 , value =35.15, inplace=True)"
      ],
      "execution_count": 1111,
      "outputs": []
    },
    {
      "cell_type": "code",
      "metadata": {
        "id": "nVhnPdZSspBk"
      },
      "source": [
        "# change null values to true\n",
        "df_test['public_meeting'].fillna(value=True,inplace=True)\n",
        "df_test['permit'].fillna(value=True, inplace=True)"
      ],
      "execution_count": 1112,
      "outputs": []
    },
    {
      "cell_type": "code",
      "metadata": {
        "id": "hpuvekc5sctd"
      },
      "source": [
        "df_test.to_csv('/content/drive/MyDrive/Pump it up/test_preprocessed.csv', index=False)"
      ],
      "execution_count": 1113,
      "outputs": []
    },
    {
      "cell_type": "code",
      "metadata": {
        "id": "cEzEzPH2S9fr"
      },
      "source": [
        "df_test = pd.read_csv('/content/drive/MyDrive/Pump it up/test_preprocessed.csv')"
      ],
      "execution_count": 1114,
      "outputs": []
    },
    {
      "cell_type": "code",
      "metadata": {
        "id": "c-gwgrRgv5dv"
      },
      "source": [
        "# drop columns which have categorical data\n",
        "df_test.drop(columns=['funder','installer','construction_year'],inplace=True )"
      ],
      "execution_count": 1115,
      "outputs": []
    },
    {
      "cell_type": "code",
      "metadata": {
        "id": "KfrimFTCAuFx"
      },
      "source": [
        "df1_test = df_test.copy()"
      ],
      "execution_count": 1116,
      "outputs": []
    },
    {
      "cell_type": "code",
      "metadata": {
        "id": "B6HG0UaXvyNL"
      },
      "source": [
        "df1_test.drop(columns=['lga','ward'],inplace=True )"
      ],
      "execution_count": 1117,
      "outputs": []
    },
    {
      "cell_type": "code",
      "metadata": {
        "id": "8oQFMfGrvyNL"
      },
      "source": [
        "df1_test['permit'] = df1_test['permit'].astype(bool).astype(int)\n",
        "df1_test['public_meeting'] = df1_test['public_meeting'].astype(bool).astype(int)"
      ],
      "execution_count": 1118,
      "outputs": []
    },
    {
      "cell_type": "code",
      "metadata": {
        "id": "odWGlu3KvyNL"
      },
      "source": [
        "cat_col = ['basin','region','extraction_type_group','management','payment','water_quality','quantity','source','waterpoint_type','decade','installer_cat','funder_cat']\n",
        "num_col = ['gps_height','longitude','latitude','district_code','population','public_meeting','permit']\n"
      ],
      "execution_count": 1119,
      "outputs": []
    },
    {
      "cell_type": "code",
      "metadata": {
        "id": "uUPKYYXOPbew"
      },
      "source": [
        "df5=df1_test.copy()"
      ],
      "execution_count": 1121,
      "outputs": []
    },
    {
      "cell_type": "code",
      "metadata": {
        "id": "eH7xiVjTCn6t"
      },
      "source": [
        "encoder = TargetEncoder()\n",
        "for c in cat_col:\n",
        "    df5[str(c) + '_encoded'] = encoder.fit_transform(df5[c].values,df['status_group'][0:14850])\n",
        "    df5.drop(columns=c, inplace=True)"
      ],
      "execution_count": 1123,
      "outputs": []
    },
    {
      "cell_type": "code",
      "metadata": {
        "id": "8liv0hiuAy1W"
      },
      "source": [
        "scaler = preprocessing.RobustScaler()\n",
        "def scaleColumns(df, num_col):\n",
        "    for col in num_col:\n",
        "        df[col] = pd.DataFrame(scaler.fit_transform(pd.DataFrame(df5[col])),columns=[col])\n",
        "    return df\n",
        "\n",
        "scaled_df_test = scaleColumns(df5,[num_col])"
      ],
      "execution_count": 1139,
      "outputs": []
    },
    {
      "cell_type": "code",
      "metadata": {
        "id": "q7s1q2hjV1R0"
      },
      "source": [
        "x_test=scaled_df_test[used_cols_new]"
      ],
      "execution_count": 1146,
      "outputs": []
    },
    {
      "cell_type": "code",
      "metadata": {
        "id": "ll6_7PTTQ3x7"
      },
      "source": [
        "#load the model\n",
        "with open('final_model.pkl', 'rb') as f:\n",
        "    model = pickle.load(f)"
      ],
      "execution_count": 1134,
      "outputs": []
    },
    {
      "cell_type": "code",
      "metadata": {
        "id": "Qa19S3X6Wkow"
      },
      "source": [
        "output = model.predict(x_test.to_numpy())"
      ],
      "execution_count": 1142,
      "outputs": []
    }
  ]
}